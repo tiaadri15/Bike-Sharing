{
 "cells": [
  {
   "cell_type": "markdown",
   "metadata": {
    "id": "H9wADwK78DCz"
   },
   "source": [
    "# Proyek Analisis Data: Bike-sharing-dataset\n",
    "- **Nama:** Adriati Manuk Allo\n",
    "- **Email:** adriatimank75@gmail.com\n",
    "- **ID Dicoding:** tiaadri15"
   ]
  },
  {
   "cell_type": "markdown",
   "metadata": {
    "id": "eE0raob58DC0"
   },
   "source": [
    "## Menentukan Pertanyaan Bisnis"
   ]
  },
  {
   "cell_type": "markdown",
   "metadata": {
    "id": "GmQeQ5YF8DC0"
   },
   "source": [
    "- Berapa rata-rata penyewaan sepeda tiap jam?\n",
    "- Berapa persentase pengguna yang memilih menggunakan sepeda sewaan saat hari kerja?\n",
    "- Berapa persentase penyewaan sepeda pada dari tahun 2011-2012?\n",
    "- Bagaimana perbandingan antara casual user dengan registered users?\n",
    "- Bagaimana pengaruh musim terhadap penyewaan sepeda per tahunnya?"
   ]
  },
  {
   "cell_type": "markdown",
   "metadata": {
    "id": "H-z4QGlO8DC1"
   },
   "source": [
    "## Import Semua Packages/Library yang Digunakan"
   ]
  },
  {
   "cell_type": "code",
   "execution_count": 107,
   "metadata": {
    "id": "FVYwaObI8DC1"
   },
   "outputs": [],
   "source": [
    "import numpy as np\n",
    "import pandas as pd\n",
    "import matplotlib.pyplot as plt\n",
    "import seaborn as sns\n",
    "from prettytable import PrettyTable"
   ]
  },
  {
   "cell_type": "markdown",
   "metadata": {
    "id": "h_Sh51Xy8DC1"
   },
   "source": [
    "## Data Wrangling"
   ]
  },
  {
   "cell_type": "markdown",
   "metadata": {
    "id": "sXU2GBYu8DC1"
   },
   "source": [
    "### Gathering Data"
   ]
  },
  {
   "cell_type": "markdown",
   "metadata": {
    "id": "zjCBk1BI8DC1"
   },
   "source": [
    "#### Memuat tabel day\n",
    "\n",
    "Method head() digunakan untuk menampilkan 5 record teratas dari data day.csv"
   ]
  },
  {
   "cell_type": "code",
   "execution_count": 108,
   "metadata": {},
   "outputs": [
    {
     "data": {
      "text/html": [
       "<div>\n",
       "<style scoped>\n",
       "    .dataframe tbody tr th:only-of-type {\n",
       "        vertical-align: middle;\n",
       "    }\n",
       "\n",
       "    .dataframe tbody tr th {\n",
       "        vertical-align: top;\n",
       "    }\n",
       "\n",
       "    .dataframe thead th {\n",
       "        text-align: right;\n",
       "    }\n",
       "</style>\n",
       "<table border=\"1\" class=\"dataframe\">\n",
       "  <thead>\n",
       "    <tr style=\"text-align: right;\">\n",
       "      <th></th>\n",
       "      <th>instant</th>\n",
       "      <th>dteday</th>\n",
       "      <th>season</th>\n",
       "      <th>yr</th>\n",
       "      <th>mnth</th>\n",
       "      <th>holiday</th>\n",
       "      <th>weekday</th>\n",
       "      <th>workingday</th>\n",
       "      <th>weathersit</th>\n",
       "      <th>temp</th>\n",
       "      <th>atemp</th>\n",
       "      <th>hum</th>\n",
       "      <th>windspeed</th>\n",
       "      <th>casual</th>\n",
       "      <th>registered</th>\n",
       "      <th>cnt</th>\n",
       "    </tr>\n",
       "  </thead>\n",
       "  <tbody>\n",
       "    <tr>\n",
       "      <th>0</th>\n",
       "      <td>1</td>\n",
       "      <td>2011-01-01</td>\n",
       "      <td>1</td>\n",
       "      <td>0</td>\n",
       "      <td>1</td>\n",
       "      <td>0</td>\n",
       "      <td>6</td>\n",
       "      <td>0</td>\n",
       "      <td>2</td>\n",
       "      <td>0.344167</td>\n",
       "      <td>0.363625</td>\n",
       "      <td>0.805833</td>\n",
       "      <td>0.160446</td>\n",
       "      <td>331</td>\n",
       "      <td>654</td>\n",
       "      <td>985</td>\n",
       "    </tr>\n",
       "    <tr>\n",
       "      <th>1</th>\n",
       "      <td>2</td>\n",
       "      <td>2011-01-02</td>\n",
       "      <td>1</td>\n",
       "      <td>0</td>\n",
       "      <td>1</td>\n",
       "      <td>0</td>\n",
       "      <td>0</td>\n",
       "      <td>0</td>\n",
       "      <td>2</td>\n",
       "      <td>0.363478</td>\n",
       "      <td>0.353739</td>\n",
       "      <td>0.696087</td>\n",
       "      <td>0.248539</td>\n",
       "      <td>131</td>\n",
       "      <td>670</td>\n",
       "      <td>801</td>\n",
       "    </tr>\n",
       "    <tr>\n",
       "      <th>2</th>\n",
       "      <td>3</td>\n",
       "      <td>2011-01-03</td>\n",
       "      <td>1</td>\n",
       "      <td>0</td>\n",
       "      <td>1</td>\n",
       "      <td>0</td>\n",
       "      <td>1</td>\n",
       "      <td>1</td>\n",
       "      <td>1</td>\n",
       "      <td>0.196364</td>\n",
       "      <td>0.189405</td>\n",
       "      <td>0.437273</td>\n",
       "      <td>0.248309</td>\n",
       "      <td>120</td>\n",
       "      <td>1229</td>\n",
       "      <td>1349</td>\n",
       "    </tr>\n",
       "    <tr>\n",
       "      <th>3</th>\n",
       "      <td>4</td>\n",
       "      <td>2011-01-04</td>\n",
       "      <td>1</td>\n",
       "      <td>0</td>\n",
       "      <td>1</td>\n",
       "      <td>0</td>\n",
       "      <td>2</td>\n",
       "      <td>1</td>\n",
       "      <td>1</td>\n",
       "      <td>0.200000</td>\n",
       "      <td>0.212122</td>\n",
       "      <td>0.590435</td>\n",
       "      <td>0.160296</td>\n",
       "      <td>108</td>\n",
       "      <td>1454</td>\n",
       "      <td>1562</td>\n",
       "    </tr>\n",
       "    <tr>\n",
       "      <th>4</th>\n",
       "      <td>5</td>\n",
       "      <td>2011-01-05</td>\n",
       "      <td>1</td>\n",
       "      <td>0</td>\n",
       "      <td>1</td>\n",
       "      <td>0</td>\n",
       "      <td>3</td>\n",
       "      <td>1</td>\n",
       "      <td>1</td>\n",
       "      <td>0.226957</td>\n",
       "      <td>0.229270</td>\n",
       "      <td>0.436957</td>\n",
       "      <td>0.186900</td>\n",
       "      <td>82</td>\n",
       "      <td>1518</td>\n",
       "      <td>1600</td>\n",
       "    </tr>\n",
       "  </tbody>\n",
       "</table>\n",
       "</div>"
      ],
      "text/plain": [
       "   instant      dteday  season  yr  mnth  holiday  weekday  workingday  \\\n",
       "0        1  2011-01-01       1   0     1        0        6           0   \n",
       "1        2  2011-01-02       1   0     1        0        0           0   \n",
       "2        3  2011-01-03       1   0     1        0        1           1   \n",
       "3        4  2011-01-04       1   0     1        0        2           1   \n",
       "4        5  2011-01-05       1   0     1        0        3           1   \n",
       "\n",
       "   weathersit      temp     atemp       hum  windspeed  casual  registered  \\\n",
       "0           2  0.344167  0.363625  0.805833   0.160446     331         654   \n",
       "1           2  0.363478  0.353739  0.696087   0.248539     131         670   \n",
       "2           1  0.196364  0.189405  0.437273   0.248309     120        1229   \n",
       "3           1  0.200000  0.212122  0.590435   0.160296     108        1454   \n",
       "4           1  0.226957  0.229270  0.436957   0.186900      82        1518   \n",
       "\n",
       "    cnt  \n",
       "0   985  \n",
       "1   801  \n",
       "2  1349  \n",
       "3  1562  \n",
       "4  1600  "
      ]
     },
     "execution_count": 108,
     "metadata": {},
     "output_type": "execute_result"
    }
   ],
   "source": [
    "df_day = pd.read_csv('data/day.csv')\n",
    "df_day.head()"
   ]
  },
  {
   "cell_type": "markdown",
   "metadata": {},
   "source": [
    "#### Memuat tabel hour\n",
    "\n",
    "Method head() digunakan untuk menampilkan 5 record teratas dari data hour.csv"
   ]
  },
  {
   "cell_type": "code",
   "execution_count": 109,
   "metadata": {},
   "outputs": [
    {
     "data": {
      "text/html": [
       "<div>\n",
       "<style scoped>\n",
       "    .dataframe tbody tr th:only-of-type {\n",
       "        vertical-align: middle;\n",
       "    }\n",
       "\n",
       "    .dataframe tbody tr th {\n",
       "        vertical-align: top;\n",
       "    }\n",
       "\n",
       "    .dataframe thead th {\n",
       "        text-align: right;\n",
       "    }\n",
       "</style>\n",
       "<table border=\"1\" class=\"dataframe\">\n",
       "  <thead>\n",
       "    <tr style=\"text-align: right;\">\n",
       "      <th></th>\n",
       "      <th>instant</th>\n",
       "      <th>dteday</th>\n",
       "      <th>season</th>\n",
       "      <th>yr</th>\n",
       "      <th>mnth</th>\n",
       "      <th>hr</th>\n",
       "      <th>holiday</th>\n",
       "      <th>weekday</th>\n",
       "      <th>workingday</th>\n",
       "      <th>weathersit</th>\n",
       "      <th>temp</th>\n",
       "      <th>atemp</th>\n",
       "      <th>hum</th>\n",
       "      <th>windspeed</th>\n",
       "      <th>casual</th>\n",
       "      <th>registered</th>\n",
       "      <th>cnt</th>\n",
       "    </tr>\n",
       "  </thead>\n",
       "  <tbody>\n",
       "    <tr>\n",
       "      <th>0</th>\n",
       "      <td>1</td>\n",
       "      <td>2011-01-01</td>\n",
       "      <td>1</td>\n",
       "      <td>0</td>\n",
       "      <td>1</td>\n",
       "      <td>0</td>\n",
       "      <td>0</td>\n",
       "      <td>6</td>\n",
       "      <td>0</td>\n",
       "      <td>1</td>\n",
       "      <td>0.24</td>\n",
       "      <td>0.2879</td>\n",
       "      <td>0.81</td>\n",
       "      <td>0.0</td>\n",
       "      <td>3</td>\n",
       "      <td>13</td>\n",
       "      <td>16</td>\n",
       "    </tr>\n",
       "    <tr>\n",
       "      <th>1</th>\n",
       "      <td>2</td>\n",
       "      <td>2011-01-01</td>\n",
       "      <td>1</td>\n",
       "      <td>0</td>\n",
       "      <td>1</td>\n",
       "      <td>1</td>\n",
       "      <td>0</td>\n",
       "      <td>6</td>\n",
       "      <td>0</td>\n",
       "      <td>1</td>\n",
       "      <td>0.22</td>\n",
       "      <td>0.2727</td>\n",
       "      <td>0.80</td>\n",
       "      <td>0.0</td>\n",
       "      <td>8</td>\n",
       "      <td>32</td>\n",
       "      <td>40</td>\n",
       "    </tr>\n",
       "    <tr>\n",
       "      <th>2</th>\n",
       "      <td>3</td>\n",
       "      <td>2011-01-01</td>\n",
       "      <td>1</td>\n",
       "      <td>0</td>\n",
       "      <td>1</td>\n",
       "      <td>2</td>\n",
       "      <td>0</td>\n",
       "      <td>6</td>\n",
       "      <td>0</td>\n",
       "      <td>1</td>\n",
       "      <td>0.22</td>\n",
       "      <td>0.2727</td>\n",
       "      <td>0.80</td>\n",
       "      <td>0.0</td>\n",
       "      <td>5</td>\n",
       "      <td>27</td>\n",
       "      <td>32</td>\n",
       "    </tr>\n",
       "    <tr>\n",
       "      <th>3</th>\n",
       "      <td>4</td>\n",
       "      <td>2011-01-01</td>\n",
       "      <td>1</td>\n",
       "      <td>0</td>\n",
       "      <td>1</td>\n",
       "      <td>3</td>\n",
       "      <td>0</td>\n",
       "      <td>6</td>\n",
       "      <td>0</td>\n",
       "      <td>1</td>\n",
       "      <td>0.24</td>\n",
       "      <td>0.2879</td>\n",
       "      <td>0.75</td>\n",
       "      <td>0.0</td>\n",
       "      <td>3</td>\n",
       "      <td>10</td>\n",
       "      <td>13</td>\n",
       "    </tr>\n",
       "    <tr>\n",
       "      <th>4</th>\n",
       "      <td>5</td>\n",
       "      <td>2011-01-01</td>\n",
       "      <td>1</td>\n",
       "      <td>0</td>\n",
       "      <td>1</td>\n",
       "      <td>4</td>\n",
       "      <td>0</td>\n",
       "      <td>6</td>\n",
       "      <td>0</td>\n",
       "      <td>1</td>\n",
       "      <td>0.24</td>\n",
       "      <td>0.2879</td>\n",
       "      <td>0.75</td>\n",
       "      <td>0.0</td>\n",
       "      <td>0</td>\n",
       "      <td>1</td>\n",
       "      <td>1</td>\n",
       "    </tr>\n",
       "  </tbody>\n",
       "</table>\n",
       "</div>"
      ],
      "text/plain": [
       "   instant      dteday  season  yr  mnth  hr  holiday  weekday  workingday  \\\n",
       "0        1  2011-01-01       1   0     1   0        0        6           0   \n",
       "1        2  2011-01-01       1   0     1   1        0        6           0   \n",
       "2        3  2011-01-01       1   0     1   2        0        6           0   \n",
       "3        4  2011-01-01       1   0     1   3        0        6           0   \n",
       "4        5  2011-01-01       1   0     1   4        0        6           0   \n",
       "\n",
       "   weathersit  temp   atemp   hum  windspeed  casual  registered  cnt  \n",
       "0           1  0.24  0.2879  0.81        0.0       3          13   16  \n",
       "1           1  0.22  0.2727  0.80        0.0       8          32   40  \n",
       "2           1  0.22  0.2727  0.80        0.0       5          27   32  \n",
       "3           1  0.24  0.2879  0.75        0.0       3          10   13  \n",
       "4           1  0.24  0.2879  0.75        0.0       0           1    1  "
      ]
     },
     "execution_count": 109,
     "metadata": {},
     "output_type": "execute_result"
    }
   ],
   "source": [
    "df_hour = pd.read_csv('data/hour.csv')\n",
    "df_hour.head()"
   ]
  },
  {
   "cell_type": "markdown",
   "metadata": {
    "id": "FHSiqaZp8DC1"
   },
   "source": [
    "### Assessing Data"
   ]
  },
  {
   "cell_type": "markdown",
   "metadata": {},
   "source": [
    "#### Menilai data df_day\n",
    "Data pertama yang dinilai adalah df_day yang akan diperiksa tipe data dari tiap kolomnya menggunakan method info() dan method isna() yang dipadukan dengan sum() untuk memeriksa serta menghitung apakah ada nilai yang hilang atau tidak  serta memeriksa parameter statistik dari setiap kolom yang ada"
   ]
  },
  {
   "cell_type": "code",
   "execution_count": 110,
   "metadata": {},
   "outputs": [
    {
     "name": "stdout",
     "output_type": "stream",
     "text": [
      "<class 'pandas.core.frame.DataFrame'>\n",
      "RangeIndex: 731 entries, 0 to 730\n",
      "Data columns (total 16 columns):\n",
      " #   Column      Non-Null Count  Dtype  \n",
      "---  ------      --------------  -----  \n",
      " 0   instant     731 non-null    int64  \n",
      " 1   dteday      731 non-null    object \n",
      " 2   season      731 non-null    int64  \n",
      " 3   yr          731 non-null    int64  \n",
      " 4   mnth        731 non-null    int64  \n",
      " 5   holiday     731 non-null    int64  \n",
      " 6   weekday     731 non-null    int64  \n",
      " 7   workingday  731 non-null    int64  \n",
      " 8   weathersit  731 non-null    int64  \n",
      " 9   temp        731 non-null    float64\n",
      " 10  atemp       731 non-null    float64\n",
      " 11  hum         731 non-null    float64\n",
      " 12  windspeed   731 non-null    float64\n",
      " 13  casual      731 non-null    int64  \n",
      " 14  registered  731 non-null    int64  \n",
      " 15  cnt         731 non-null    int64  \n",
      "dtypes: float64(4), int64(11), object(1)\n",
      "memory usage: 91.5+ KB\n"
     ]
    }
   ],
   "source": [
    "df_day.info()"
   ]
  },
  {
   "cell_type": "code",
   "execution_count": 111,
   "metadata": {},
   "outputs": [
    {
     "data": {
      "text/plain": [
       "instant       0\n",
       "dteday        0\n",
       "season        0\n",
       "yr            0\n",
       "mnth          0\n",
       "holiday       0\n",
       "weekday       0\n",
       "workingday    0\n",
       "weathersit    0\n",
       "temp          0\n",
       "atemp         0\n",
       "hum           0\n",
       "windspeed     0\n",
       "casual        0\n",
       "registered    0\n",
       "cnt           0\n",
       "dtype: int64"
      ]
     },
     "execution_count": 111,
     "metadata": {},
     "output_type": "execute_result"
    }
   ],
   "source": [
    "df_day.isna().sum()"
   ]
  },
  {
   "cell_type": "markdown",
   "metadata": {},
   "source": [
    "#### Memeriksa jumlah nilai duplikat"
   ]
  },
  {
   "cell_type": "code",
   "execution_count": 112,
   "metadata": {},
   "outputs": [
    {
     "name": "stdout",
     "output_type": "stream",
     "text": [
      "Jumlah data duplikat pada df_day: 0\n"
     ]
    }
   ],
   "source": [
    "print (f\"Jumlah data duplikat pada df_day: {df_day.duplicated().sum()}\")"
   ]
  },
  {
   "cell_type": "markdown",
   "metadata": {},
   "source": [
    "#### Memeriksa parameter statistik dari kolom numerik\n",
    "\n",
    "Method describe() akan menampilkan ringaksan parameter statistik (mean, standar deviasi, nilai minimal, nilai maksimal, dsb)"
   ]
  },
  {
   "cell_type": "code",
   "execution_count": 113,
   "metadata": {},
   "outputs": [
    {
     "data": {
      "text/html": [
       "<div>\n",
       "<style scoped>\n",
       "    .dataframe tbody tr th:only-of-type {\n",
       "        vertical-align: middle;\n",
       "    }\n",
       "\n",
       "    .dataframe tbody tr th {\n",
       "        vertical-align: top;\n",
       "    }\n",
       "\n",
       "    .dataframe thead th {\n",
       "        text-align: right;\n",
       "    }\n",
       "</style>\n",
       "<table border=\"1\" class=\"dataframe\">\n",
       "  <thead>\n",
       "    <tr style=\"text-align: right;\">\n",
       "      <th></th>\n",
       "      <th>instant</th>\n",
       "      <th>season</th>\n",
       "      <th>yr</th>\n",
       "      <th>mnth</th>\n",
       "      <th>holiday</th>\n",
       "      <th>weekday</th>\n",
       "      <th>workingday</th>\n",
       "      <th>weathersit</th>\n",
       "      <th>temp</th>\n",
       "      <th>atemp</th>\n",
       "      <th>hum</th>\n",
       "      <th>windspeed</th>\n",
       "      <th>casual</th>\n",
       "      <th>registered</th>\n",
       "      <th>cnt</th>\n",
       "    </tr>\n",
       "  </thead>\n",
       "  <tbody>\n",
       "    <tr>\n",
       "      <th>count</th>\n",
       "      <td>731.000000</td>\n",
       "      <td>731.000000</td>\n",
       "      <td>731.000000</td>\n",
       "      <td>731.000000</td>\n",
       "      <td>731.000000</td>\n",
       "      <td>731.000000</td>\n",
       "      <td>731.000000</td>\n",
       "      <td>731.000000</td>\n",
       "      <td>731.000000</td>\n",
       "      <td>731.000000</td>\n",
       "      <td>731.000000</td>\n",
       "      <td>731.000000</td>\n",
       "      <td>731.000000</td>\n",
       "      <td>731.000000</td>\n",
       "      <td>731.000000</td>\n",
       "    </tr>\n",
       "    <tr>\n",
       "      <th>mean</th>\n",
       "      <td>366.000000</td>\n",
       "      <td>2.496580</td>\n",
       "      <td>0.500684</td>\n",
       "      <td>6.519836</td>\n",
       "      <td>0.028728</td>\n",
       "      <td>2.997264</td>\n",
       "      <td>0.683995</td>\n",
       "      <td>1.395349</td>\n",
       "      <td>0.495385</td>\n",
       "      <td>0.474354</td>\n",
       "      <td>0.627894</td>\n",
       "      <td>0.190486</td>\n",
       "      <td>848.176471</td>\n",
       "      <td>3656.172367</td>\n",
       "      <td>4504.348837</td>\n",
       "    </tr>\n",
       "    <tr>\n",
       "      <th>std</th>\n",
       "      <td>211.165812</td>\n",
       "      <td>1.110807</td>\n",
       "      <td>0.500342</td>\n",
       "      <td>3.451913</td>\n",
       "      <td>0.167155</td>\n",
       "      <td>2.004787</td>\n",
       "      <td>0.465233</td>\n",
       "      <td>0.544894</td>\n",
       "      <td>0.183051</td>\n",
       "      <td>0.162961</td>\n",
       "      <td>0.142429</td>\n",
       "      <td>0.077498</td>\n",
       "      <td>686.622488</td>\n",
       "      <td>1560.256377</td>\n",
       "      <td>1937.211452</td>\n",
       "    </tr>\n",
       "    <tr>\n",
       "      <th>min</th>\n",
       "      <td>1.000000</td>\n",
       "      <td>1.000000</td>\n",
       "      <td>0.000000</td>\n",
       "      <td>1.000000</td>\n",
       "      <td>0.000000</td>\n",
       "      <td>0.000000</td>\n",
       "      <td>0.000000</td>\n",
       "      <td>1.000000</td>\n",
       "      <td>0.059130</td>\n",
       "      <td>0.079070</td>\n",
       "      <td>0.000000</td>\n",
       "      <td>0.022392</td>\n",
       "      <td>2.000000</td>\n",
       "      <td>20.000000</td>\n",
       "      <td>22.000000</td>\n",
       "    </tr>\n",
       "    <tr>\n",
       "      <th>25%</th>\n",
       "      <td>183.500000</td>\n",
       "      <td>2.000000</td>\n",
       "      <td>0.000000</td>\n",
       "      <td>4.000000</td>\n",
       "      <td>0.000000</td>\n",
       "      <td>1.000000</td>\n",
       "      <td>0.000000</td>\n",
       "      <td>1.000000</td>\n",
       "      <td>0.337083</td>\n",
       "      <td>0.337842</td>\n",
       "      <td>0.520000</td>\n",
       "      <td>0.134950</td>\n",
       "      <td>315.500000</td>\n",
       "      <td>2497.000000</td>\n",
       "      <td>3152.000000</td>\n",
       "    </tr>\n",
       "    <tr>\n",
       "      <th>50%</th>\n",
       "      <td>366.000000</td>\n",
       "      <td>3.000000</td>\n",
       "      <td>1.000000</td>\n",
       "      <td>7.000000</td>\n",
       "      <td>0.000000</td>\n",
       "      <td>3.000000</td>\n",
       "      <td>1.000000</td>\n",
       "      <td>1.000000</td>\n",
       "      <td>0.498333</td>\n",
       "      <td>0.486733</td>\n",
       "      <td>0.626667</td>\n",
       "      <td>0.180975</td>\n",
       "      <td>713.000000</td>\n",
       "      <td>3662.000000</td>\n",
       "      <td>4548.000000</td>\n",
       "    </tr>\n",
       "    <tr>\n",
       "      <th>75%</th>\n",
       "      <td>548.500000</td>\n",
       "      <td>3.000000</td>\n",
       "      <td>1.000000</td>\n",
       "      <td>10.000000</td>\n",
       "      <td>0.000000</td>\n",
       "      <td>5.000000</td>\n",
       "      <td>1.000000</td>\n",
       "      <td>2.000000</td>\n",
       "      <td>0.655417</td>\n",
       "      <td>0.608602</td>\n",
       "      <td>0.730209</td>\n",
       "      <td>0.233214</td>\n",
       "      <td>1096.000000</td>\n",
       "      <td>4776.500000</td>\n",
       "      <td>5956.000000</td>\n",
       "    </tr>\n",
       "    <tr>\n",
       "      <th>max</th>\n",
       "      <td>731.000000</td>\n",
       "      <td>4.000000</td>\n",
       "      <td>1.000000</td>\n",
       "      <td>12.000000</td>\n",
       "      <td>1.000000</td>\n",
       "      <td>6.000000</td>\n",
       "      <td>1.000000</td>\n",
       "      <td>3.000000</td>\n",
       "      <td>0.861667</td>\n",
       "      <td>0.840896</td>\n",
       "      <td>0.972500</td>\n",
       "      <td>0.507463</td>\n",
       "      <td>3410.000000</td>\n",
       "      <td>6946.000000</td>\n",
       "      <td>8714.000000</td>\n",
       "    </tr>\n",
       "  </tbody>\n",
       "</table>\n",
       "</div>"
      ],
      "text/plain": [
       "          instant      season          yr        mnth     holiday     weekday  \\\n",
       "count  731.000000  731.000000  731.000000  731.000000  731.000000  731.000000   \n",
       "mean   366.000000    2.496580    0.500684    6.519836    0.028728    2.997264   \n",
       "std    211.165812    1.110807    0.500342    3.451913    0.167155    2.004787   \n",
       "min      1.000000    1.000000    0.000000    1.000000    0.000000    0.000000   \n",
       "25%    183.500000    2.000000    0.000000    4.000000    0.000000    1.000000   \n",
       "50%    366.000000    3.000000    1.000000    7.000000    0.000000    3.000000   \n",
       "75%    548.500000    3.000000    1.000000   10.000000    0.000000    5.000000   \n",
       "max    731.000000    4.000000    1.000000   12.000000    1.000000    6.000000   \n",
       "\n",
       "       workingday  weathersit        temp       atemp         hum   windspeed  \\\n",
       "count  731.000000  731.000000  731.000000  731.000000  731.000000  731.000000   \n",
       "mean     0.683995    1.395349    0.495385    0.474354    0.627894    0.190486   \n",
       "std      0.465233    0.544894    0.183051    0.162961    0.142429    0.077498   \n",
       "min      0.000000    1.000000    0.059130    0.079070    0.000000    0.022392   \n",
       "25%      0.000000    1.000000    0.337083    0.337842    0.520000    0.134950   \n",
       "50%      1.000000    1.000000    0.498333    0.486733    0.626667    0.180975   \n",
       "75%      1.000000    2.000000    0.655417    0.608602    0.730209    0.233214   \n",
       "max      1.000000    3.000000    0.861667    0.840896    0.972500    0.507463   \n",
       "\n",
       "            casual   registered          cnt  \n",
       "count   731.000000   731.000000   731.000000  \n",
       "mean    848.176471  3656.172367  4504.348837  \n",
       "std     686.622488  1560.256377  1937.211452  \n",
       "min       2.000000    20.000000    22.000000  \n",
       "25%     315.500000  2497.000000  3152.000000  \n",
       "50%     713.000000  3662.000000  4548.000000  \n",
       "75%    1096.000000  4776.500000  5956.000000  \n",
       "max    3410.000000  6946.000000  8714.000000  "
      ]
     },
     "execution_count": 113,
     "metadata": {},
     "output_type": "execute_result"
    }
   ],
   "source": [
    "df_day.describe()"
   ]
  },
  {
   "cell_type": "markdown",
   "metadata": {
    "id": "7dtxhAPrkhPL"
   },
   "source": [
    "**Insight:**\n",
    "\n",
    "- Pada data df_day, jumlah data pada setiap kolom adalah sama yaitu 731 record yang menunjukkan tidak adanya data yang nilainya hilang (missing value). Selain itu tidak di temukan juga data duplikat pada setiap record yang ada. Namun, pada saat memeriksa tipe data setiap kolom didapatkan bahwa kolom dteday memiliki tipe data object yang seharusnya tipe datanya adalah datetime agar sesuai dengan nilai yang di simpan yaitu tanggal."
   ]
  },
  {
   "cell_type": "markdown",
   "metadata": {},
   "source": [
    "#### Menilai data df_hour\n",
    "Data kedua yang dinilai adalah df_hour yang akan diperiksa tipe data dari tiap kolomnya menggunakan method info() dan method isna() yang dipadukan dengan sum() untuk memeriksa serta menghitung apakah ada nilai yang hilang atau tidak serta memeriksa parameter statistik dari setiap kolom yang ada"
   ]
  },
  {
   "cell_type": "markdown",
   "metadata": {},
   "source": [
    "#### Memeriksa tipe data tiap kolom dan missing value"
   ]
  },
  {
   "cell_type": "code",
   "execution_count": 114,
   "metadata": {},
   "outputs": [
    {
     "name": "stdout",
     "output_type": "stream",
     "text": [
      "<class 'pandas.core.frame.DataFrame'>\n",
      "RangeIndex: 17379 entries, 0 to 17378\n",
      "Data columns (total 17 columns):\n",
      " #   Column      Non-Null Count  Dtype  \n",
      "---  ------      --------------  -----  \n",
      " 0   instant     17379 non-null  int64  \n",
      " 1   dteday      17379 non-null  object \n",
      " 2   season      17379 non-null  int64  \n",
      " 3   yr          17379 non-null  int64  \n",
      " 4   mnth        17379 non-null  int64  \n",
      " 5   hr          17379 non-null  int64  \n",
      " 6   holiday     17379 non-null  int64  \n",
      " 7   weekday     17379 non-null  int64  \n",
      " 8   workingday  17379 non-null  int64  \n",
      " 9   weathersit  17379 non-null  int64  \n",
      " 10  temp        17379 non-null  float64\n",
      " 11  atemp       17379 non-null  float64\n",
      " 12  hum         17379 non-null  float64\n",
      " 13  windspeed   17379 non-null  float64\n",
      " 14  casual      17379 non-null  int64  \n",
      " 15  registered  17379 non-null  int64  \n",
      " 16  cnt         17379 non-null  int64  \n",
      "dtypes: float64(4), int64(12), object(1)\n",
      "memory usage: 2.3+ MB\n"
     ]
    }
   ],
   "source": [
    "df_hour.info()"
   ]
  },
  {
   "cell_type": "code",
   "execution_count": 115,
   "metadata": {},
   "outputs": [
    {
     "data": {
      "text/plain": [
       "instant       0\n",
       "dteday        0\n",
       "season        0\n",
       "yr            0\n",
       "mnth          0\n",
       "hr            0\n",
       "holiday       0\n",
       "weekday       0\n",
       "workingday    0\n",
       "weathersit    0\n",
       "temp          0\n",
       "atemp         0\n",
       "hum           0\n",
       "windspeed     0\n",
       "casual        0\n",
       "registered    0\n",
       "cnt           0\n",
       "dtype: int64"
      ]
     },
     "execution_count": 115,
     "metadata": {},
     "output_type": "execute_result"
    }
   ],
   "source": [
    "df_hour.isna().sum()"
   ]
  },
  {
   "cell_type": "markdown",
   "metadata": {},
   "source": [
    "#### Memeriksa jumlah nilai duplikat"
   ]
  },
  {
   "cell_type": "code",
   "execution_count": 116,
   "metadata": {},
   "outputs": [
    {
     "name": "stdout",
     "output_type": "stream",
     "text": [
      "Jumlah data duplikat pada df_hour: 0\n"
     ]
    }
   ],
   "source": [
    "print (f\"Jumlah data duplikat pada df_hour: {df_hour.duplicated().sum()}\")"
   ]
  },
  {
   "cell_type": "markdown",
   "metadata": {},
   "source": [
    "#### Memeriksa parameter statistik dari kolom numerik\n",
    "Method describe() akan menampilkan ringaksan parameter statistik (mean, standar deviasi, nilai minimal, nilai maksimal, dsb)"
   ]
  },
  {
   "cell_type": "code",
   "execution_count": 117,
   "metadata": {},
   "outputs": [
    {
     "data": {
      "text/html": [
       "<div>\n",
       "<style scoped>\n",
       "    .dataframe tbody tr th:only-of-type {\n",
       "        vertical-align: middle;\n",
       "    }\n",
       "\n",
       "    .dataframe tbody tr th {\n",
       "        vertical-align: top;\n",
       "    }\n",
       "\n",
       "    .dataframe thead th {\n",
       "        text-align: right;\n",
       "    }\n",
       "</style>\n",
       "<table border=\"1\" class=\"dataframe\">\n",
       "  <thead>\n",
       "    <tr style=\"text-align: right;\">\n",
       "      <th></th>\n",
       "      <th>instant</th>\n",
       "      <th>season</th>\n",
       "      <th>yr</th>\n",
       "      <th>mnth</th>\n",
       "      <th>hr</th>\n",
       "      <th>holiday</th>\n",
       "      <th>weekday</th>\n",
       "      <th>workingday</th>\n",
       "      <th>weathersit</th>\n",
       "      <th>temp</th>\n",
       "      <th>atemp</th>\n",
       "      <th>hum</th>\n",
       "      <th>windspeed</th>\n",
       "      <th>casual</th>\n",
       "      <th>registered</th>\n",
       "      <th>cnt</th>\n",
       "    </tr>\n",
       "  </thead>\n",
       "  <tbody>\n",
       "    <tr>\n",
       "      <th>count</th>\n",
       "      <td>17379.0000</td>\n",
       "      <td>17379.000000</td>\n",
       "      <td>17379.000000</td>\n",
       "      <td>17379.000000</td>\n",
       "      <td>17379.000000</td>\n",
       "      <td>17379.000000</td>\n",
       "      <td>17379.000000</td>\n",
       "      <td>17379.000000</td>\n",
       "      <td>17379.000000</td>\n",
       "      <td>17379.000000</td>\n",
       "      <td>17379.000000</td>\n",
       "      <td>17379.000000</td>\n",
       "      <td>17379.000000</td>\n",
       "      <td>17379.000000</td>\n",
       "      <td>17379.000000</td>\n",
       "      <td>17379.000000</td>\n",
       "    </tr>\n",
       "    <tr>\n",
       "      <th>mean</th>\n",
       "      <td>8690.0000</td>\n",
       "      <td>2.501640</td>\n",
       "      <td>0.502561</td>\n",
       "      <td>6.537775</td>\n",
       "      <td>11.546752</td>\n",
       "      <td>0.028770</td>\n",
       "      <td>3.003683</td>\n",
       "      <td>0.682721</td>\n",
       "      <td>1.425283</td>\n",
       "      <td>0.496987</td>\n",
       "      <td>0.475775</td>\n",
       "      <td>0.627229</td>\n",
       "      <td>0.190098</td>\n",
       "      <td>35.676218</td>\n",
       "      <td>153.786869</td>\n",
       "      <td>189.463088</td>\n",
       "    </tr>\n",
       "    <tr>\n",
       "      <th>std</th>\n",
       "      <td>5017.0295</td>\n",
       "      <td>1.106918</td>\n",
       "      <td>0.500008</td>\n",
       "      <td>3.438776</td>\n",
       "      <td>6.914405</td>\n",
       "      <td>0.167165</td>\n",
       "      <td>2.005771</td>\n",
       "      <td>0.465431</td>\n",
       "      <td>0.639357</td>\n",
       "      <td>0.192556</td>\n",
       "      <td>0.171850</td>\n",
       "      <td>0.192930</td>\n",
       "      <td>0.122340</td>\n",
       "      <td>49.305030</td>\n",
       "      <td>151.357286</td>\n",
       "      <td>181.387599</td>\n",
       "    </tr>\n",
       "    <tr>\n",
       "      <th>min</th>\n",
       "      <td>1.0000</td>\n",
       "      <td>1.000000</td>\n",
       "      <td>0.000000</td>\n",
       "      <td>1.000000</td>\n",
       "      <td>0.000000</td>\n",
       "      <td>0.000000</td>\n",
       "      <td>0.000000</td>\n",
       "      <td>0.000000</td>\n",
       "      <td>1.000000</td>\n",
       "      <td>0.020000</td>\n",
       "      <td>0.000000</td>\n",
       "      <td>0.000000</td>\n",
       "      <td>0.000000</td>\n",
       "      <td>0.000000</td>\n",
       "      <td>0.000000</td>\n",
       "      <td>1.000000</td>\n",
       "    </tr>\n",
       "    <tr>\n",
       "      <th>25%</th>\n",
       "      <td>4345.5000</td>\n",
       "      <td>2.000000</td>\n",
       "      <td>0.000000</td>\n",
       "      <td>4.000000</td>\n",
       "      <td>6.000000</td>\n",
       "      <td>0.000000</td>\n",
       "      <td>1.000000</td>\n",
       "      <td>0.000000</td>\n",
       "      <td>1.000000</td>\n",
       "      <td>0.340000</td>\n",
       "      <td>0.333300</td>\n",
       "      <td>0.480000</td>\n",
       "      <td>0.104500</td>\n",
       "      <td>4.000000</td>\n",
       "      <td>34.000000</td>\n",
       "      <td>40.000000</td>\n",
       "    </tr>\n",
       "    <tr>\n",
       "      <th>50%</th>\n",
       "      <td>8690.0000</td>\n",
       "      <td>3.000000</td>\n",
       "      <td>1.000000</td>\n",
       "      <td>7.000000</td>\n",
       "      <td>12.000000</td>\n",
       "      <td>0.000000</td>\n",
       "      <td>3.000000</td>\n",
       "      <td>1.000000</td>\n",
       "      <td>1.000000</td>\n",
       "      <td>0.500000</td>\n",
       "      <td>0.484800</td>\n",
       "      <td>0.630000</td>\n",
       "      <td>0.194000</td>\n",
       "      <td>17.000000</td>\n",
       "      <td>115.000000</td>\n",
       "      <td>142.000000</td>\n",
       "    </tr>\n",
       "    <tr>\n",
       "      <th>75%</th>\n",
       "      <td>13034.5000</td>\n",
       "      <td>3.000000</td>\n",
       "      <td>1.000000</td>\n",
       "      <td>10.000000</td>\n",
       "      <td>18.000000</td>\n",
       "      <td>0.000000</td>\n",
       "      <td>5.000000</td>\n",
       "      <td>1.000000</td>\n",
       "      <td>2.000000</td>\n",
       "      <td>0.660000</td>\n",
       "      <td>0.621200</td>\n",
       "      <td>0.780000</td>\n",
       "      <td>0.253700</td>\n",
       "      <td>48.000000</td>\n",
       "      <td>220.000000</td>\n",
       "      <td>281.000000</td>\n",
       "    </tr>\n",
       "    <tr>\n",
       "      <th>max</th>\n",
       "      <td>17379.0000</td>\n",
       "      <td>4.000000</td>\n",
       "      <td>1.000000</td>\n",
       "      <td>12.000000</td>\n",
       "      <td>23.000000</td>\n",
       "      <td>1.000000</td>\n",
       "      <td>6.000000</td>\n",
       "      <td>1.000000</td>\n",
       "      <td>4.000000</td>\n",
       "      <td>1.000000</td>\n",
       "      <td>1.000000</td>\n",
       "      <td>1.000000</td>\n",
       "      <td>0.850700</td>\n",
       "      <td>367.000000</td>\n",
       "      <td>886.000000</td>\n",
       "      <td>977.000000</td>\n",
       "    </tr>\n",
       "  </tbody>\n",
       "</table>\n",
       "</div>"
      ],
      "text/plain": [
       "          instant        season            yr          mnth            hr  \\\n",
       "count  17379.0000  17379.000000  17379.000000  17379.000000  17379.000000   \n",
       "mean    8690.0000      2.501640      0.502561      6.537775     11.546752   \n",
       "std     5017.0295      1.106918      0.500008      3.438776      6.914405   \n",
       "min        1.0000      1.000000      0.000000      1.000000      0.000000   \n",
       "25%     4345.5000      2.000000      0.000000      4.000000      6.000000   \n",
       "50%     8690.0000      3.000000      1.000000      7.000000     12.000000   \n",
       "75%    13034.5000      3.000000      1.000000     10.000000     18.000000   \n",
       "max    17379.0000      4.000000      1.000000     12.000000     23.000000   \n",
       "\n",
       "            holiday       weekday    workingday    weathersit          temp  \\\n",
       "count  17379.000000  17379.000000  17379.000000  17379.000000  17379.000000   \n",
       "mean       0.028770      3.003683      0.682721      1.425283      0.496987   \n",
       "std        0.167165      2.005771      0.465431      0.639357      0.192556   \n",
       "min        0.000000      0.000000      0.000000      1.000000      0.020000   \n",
       "25%        0.000000      1.000000      0.000000      1.000000      0.340000   \n",
       "50%        0.000000      3.000000      1.000000      1.000000      0.500000   \n",
       "75%        0.000000      5.000000      1.000000      2.000000      0.660000   \n",
       "max        1.000000      6.000000      1.000000      4.000000      1.000000   \n",
       "\n",
       "              atemp           hum     windspeed        casual    registered  \\\n",
       "count  17379.000000  17379.000000  17379.000000  17379.000000  17379.000000   \n",
       "mean       0.475775      0.627229      0.190098     35.676218    153.786869   \n",
       "std        0.171850      0.192930      0.122340     49.305030    151.357286   \n",
       "min        0.000000      0.000000      0.000000      0.000000      0.000000   \n",
       "25%        0.333300      0.480000      0.104500      4.000000     34.000000   \n",
       "50%        0.484800      0.630000      0.194000     17.000000    115.000000   \n",
       "75%        0.621200      0.780000      0.253700     48.000000    220.000000   \n",
       "max        1.000000      1.000000      0.850700    367.000000    886.000000   \n",
       "\n",
       "                cnt  \n",
       "count  17379.000000  \n",
       "mean     189.463088  \n",
       "std      181.387599  \n",
       "min        1.000000  \n",
       "25%       40.000000  \n",
       "50%      142.000000  \n",
       "75%      281.000000  \n",
       "max      977.000000  "
      ]
     },
     "execution_count": 117,
     "metadata": {},
     "output_type": "execute_result"
    }
   ],
   "source": [
    "df_hour.describe()"
   ]
  },
  {
   "cell_type": "markdown",
   "metadata": {
    "id": "7dtxhAPrkhPL"
   },
   "source": [
    "**Insight:**\n",
    "\n",
    "- Pada data df_hour, jumlah data pada setiap kolom adalah sama yaitu 17379 record yang menunjukkan tidak adanya data yang nilainya hilang (missing value). Selain itu tidak di temukan juga data duplikat pada setiap record yang ada. Namun, pada saat memeriksa tipe data setiap kolom didapatkan bahwa kolom dteday memiliki tipe data object yang seharusnya tipe datanya adalah datetime agar sesuai dengan nilai yang di simpan yaitu tanggal."
   ]
  },
  {
   "cell_type": "markdown",
   "metadata": {
    "id": "EhN5R4hr8DC1"
   },
   "source": [
    "### Cleaning Data"
   ]
  },
  {
   "cell_type": "markdown",
   "metadata": {},
   "source": [
    "#### Menghapus kolom insight pada df_day dan df_hour\n",
    "Penghapusan ini dilakukan karena kolom insight berisi record index, yang mana tidak diperlukan selama proses analisis data"
   ]
  },
  {
   "cell_type": "code",
   "execution_count": 118,
   "metadata": {},
   "outputs": [],
   "source": [
    "df_day.drop(columns=[\"instant\"], inplace=True)"
   ]
  },
  {
   "cell_type": "code",
   "execution_count": 119,
   "metadata": {},
   "outputs": [],
   "source": [
    "df_hour.drop(columns=[\"instant\"], inplace=True)"
   ]
  },
  {
   "cell_type": "markdown",
   "metadata": {},
   "source": [
    "#### Mengubah tipe data object kolom dteday menjadi datetime"
   ]
  },
  {
   "cell_type": "code",
   "execution_count": 120,
   "metadata": {
    "id": "jVnYpprE9Evz"
   },
   "outputs": [
    {
     "name": "stdout",
     "output_type": "stream",
     "text": [
      "<class 'pandas.core.frame.DataFrame'>\n",
      "RangeIndex: 731 entries, 0 to 730\n",
      "Data columns (total 15 columns):\n",
      " #   Column      Non-Null Count  Dtype         \n",
      "---  ------      --------------  -----         \n",
      " 0   dteday      731 non-null    datetime64[ns]\n",
      " 1   season      731 non-null    int64         \n",
      " 2   yr          731 non-null    int64         \n",
      " 3   mnth        731 non-null    int64         \n",
      " 4   holiday     731 non-null    int64         \n",
      " 5   weekday     731 non-null    int64         \n",
      " 6   workingday  731 non-null    int64         \n",
      " 7   weathersit  731 non-null    int64         \n",
      " 8   temp        731 non-null    float64       \n",
      " 9   atemp       731 non-null    float64       \n",
      " 10  hum         731 non-null    float64       \n",
      " 11  windspeed   731 non-null    float64       \n",
      " 12  casual      731 non-null    int64         \n",
      " 13  registered  731 non-null    int64         \n",
      " 14  cnt         731 non-null    int64         \n",
      "dtypes: datetime64[ns](1), float64(4), int64(10)\n",
      "memory usage: 85.8 KB\n"
     ]
    }
   ],
   "source": [
    "df_day['dteday'] = pd.to_datetime(df_day['dteday'])\n",
    "df_day.info()"
   ]
  },
  {
   "cell_type": "markdown",
   "metadata": {
    "id": "Q_5ejIqckiSP"
   },
   "source": [
    "**Insight:**\n",
    "- Method to_datetime digunakan untuk mengubah tipe data dari kolom dteday yang sebelumnya object mejadi datetime. Setelah dilakukan perubahakan, digunakan method info() untuk memeriksa apakah kolom dtype sudah berubah tipe datanya. Sehingga dapat dilihat pada skrip diatas, tipe data kolom berhasil diubah."
   ]
  },
  {
   "cell_type": "markdown",
   "metadata": {},
   "source": [
    "#### Mengubah nilai didalam kolom yr, workingday, season, weathersit, mnth dalam df_day"
   ]
  },
  {
   "cell_type": "code",
   "execution_count": 121,
   "metadata": {},
   "outputs": [],
   "source": [
    "# Mengubah nilai pada kolom yr dari 0 dan 1 menjadi 2011 dan 2012\n",
    "df_day['yr'].replace({0: '2011', 1: '2012'}, inplace=True)\n",
    "\n",
    "# Mengubah nilai pada kolom season dari 1, 2, 3, 4 menjadi springer, summer, fall, dan winter\n",
    "df_day['season'].replace({1: 'springer', 2: 'summer', 3: 'fall', 4: 'winter'}, inplace=True)\n",
    "\n",
    "# Mengubah nilai pada kolom weathersit\n",
    "df_day['weathersit'].replace({1: 'Clear, Few clouds, Partly cloudy, Partly cloudy', 2: 'Mist + Cloudy, Mist + Broken clouds, Mist + Few clouds, Mist', \n",
    "                      3: 'Light Snow, Light Rain + Thunderstorm + Scattered clouds, Light Rain + Scattered clouds', 4: 'Heavy Rain + Ice Pallets + Thunderstorm + Mist, Snow + Fog'}, inplace=True)\n",
    "\n",
    "# Mengubah nilai pada kolom mnth dari 1-12 menjadi Jan, Feb, Mar, Apr, May, Jun, Jul, Aug, Sep, Oct, Nov, Dec\n",
    "df_day['mnth'].replace({1: 'Jan', 2: 'Feb', 3: 'Mar', 4: 'Apr', 5: 'May', 6: 'Jun', 7: 'Jul', 8: 'Aug', 9: 'Sep', 10: 'Oct', 11: 'Nov', 12: 'Dec'}, inplace=True)"
   ]
  },
  {
   "cell_type": "markdown",
   "metadata": {
    "id": "gp-Y6wU38DC1"
   },
   "source": [
    "## Exploratory Data Analysis (EDA)"
   ]
  },
  {
   "cell_type": "markdown",
   "metadata": {
    "id": "MW7WF2kr8DC1"
   },
   "source": [
    "### Explore Data df_day"
   ]
  },
  {
   "cell_type": "code",
   "execution_count": 122,
   "metadata": {},
   "outputs": [
    {
     "data": {
      "text/html": [
       "<div>\n",
       "<style scoped>\n",
       "    .dataframe tbody tr th:only-of-type {\n",
       "        vertical-align: middle;\n",
       "    }\n",
       "\n",
       "    .dataframe tbody tr th {\n",
       "        vertical-align: top;\n",
       "    }\n",
       "\n",
       "    .dataframe thead th {\n",
       "        text-align: right;\n",
       "    }\n",
       "</style>\n",
       "<table border=\"1\" class=\"dataframe\">\n",
       "  <thead>\n",
       "    <tr style=\"text-align: right;\">\n",
       "      <th></th>\n",
       "      <th>holiday</th>\n",
       "      <th>weekday</th>\n",
       "      <th>workingday</th>\n",
       "      <th>temp</th>\n",
       "      <th>atemp</th>\n",
       "      <th>hum</th>\n",
       "      <th>windspeed</th>\n",
       "      <th>casual</th>\n",
       "      <th>registered</th>\n",
       "      <th>cnt</th>\n",
       "    </tr>\n",
       "  </thead>\n",
       "  <tbody>\n",
       "    <tr>\n",
       "      <th>count</th>\n",
       "      <td>731.000000</td>\n",
       "      <td>731.000000</td>\n",
       "      <td>731.000000</td>\n",
       "      <td>731.000000</td>\n",
       "      <td>731.000000</td>\n",
       "      <td>731.000000</td>\n",
       "      <td>731.000000</td>\n",
       "      <td>731.000000</td>\n",
       "      <td>731.000000</td>\n",
       "      <td>731.000000</td>\n",
       "    </tr>\n",
       "    <tr>\n",
       "      <th>mean</th>\n",
       "      <td>0.028728</td>\n",
       "      <td>2.997264</td>\n",
       "      <td>0.683995</td>\n",
       "      <td>0.495385</td>\n",
       "      <td>0.474354</td>\n",
       "      <td>0.627894</td>\n",
       "      <td>0.190486</td>\n",
       "      <td>848.176471</td>\n",
       "      <td>3656.172367</td>\n",
       "      <td>4504.348837</td>\n",
       "    </tr>\n",
       "    <tr>\n",
       "      <th>std</th>\n",
       "      <td>0.167155</td>\n",
       "      <td>2.004787</td>\n",
       "      <td>0.465233</td>\n",
       "      <td>0.183051</td>\n",
       "      <td>0.162961</td>\n",
       "      <td>0.142429</td>\n",
       "      <td>0.077498</td>\n",
       "      <td>686.622488</td>\n",
       "      <td>1560.256377</td>\n",
       "      <td>1937.211452</td>\n",
       "    </tr>\n",
       "    <tr>\n",
       "      <th>min</th>\n",
       "      <td>0.000000</td>\n",
       "      <td>0.000000</td>\n",
       "      <td>0.000000</td>\n",
       "      <td>0.059130</td>\n",
       "      <td>0.079070</td>\n",
       "      <td>0.000000</td>\n",
       "      <td>0.022392</td>\n",
       "      <td>2.000000</td>\n",
       "      <td>20.000000</td>\n",
       "      <td>22.000000</td>\n",
       "    </tr>\n",
       "    <tr>\n",
       "      <th>25%</th>\n",
       "      <td>0.000000</td>\n",
       "      <td>1.000000</td>\n",
       "      <td>0.000000</td>\n",
       "      <td>0.337083</td>\n",
       "      <td>0.337842</td>\n",
       "      <td>0.520000</td>\n",
       "      <td>0.134950</td>\n",
       "      <td>315.500000</td>\n",
       "      <td>2497.000000</td>\n",
       "      <td>3152.000000</td>\n",
       "    </tr>\n",
       "    <tr>\n",
       "      <th>50%</th>\n",
       "      <td>0.000000</td>\n",
       "      <td>3.000000</td>\n",
       "      <td>1.000000</td>\n",
       "      <td>0.498333</td>\n",
       "      <td>0.486733</td>\n",
       "      <td>0.626667</td>\n",
       "      <td>0.180975</td>\n",
       "      <td>713.000000</td>\n",
       "      <td>3662.000000</td>\n",
       "      <td>4548.000000</td>\n",
       "    </tr>\n",
       "    <tr>\n",
       "      <th>75%</th>\n",
       "      <td>0.000000</td>\n",
       "      <td>5.000000</td>\n",
       "      <td>1.000000</td>\n",
       "      <td>0.655417</td>\n",
       "      <td>0.608602</td>\n",
       "      <td>0.730209</td>\n",
       "      <td>0.233214</td>\n",
       "      <td>1096.000000</td>\n",
       "      <td>4776.500000</td>\n",
       "      <td>5956.000000</td>\n",
       "    </tr>\n",
       "    <tr>\n",
       "      <th>max</th>\n",
       "      <td>1.000000</td>\n",
       "      <td>6.000000</td>\n",
       "      <td>1.000000</td>\n",
       "      <td>0.861667</td>\n",
       "      <td>0.840896</td>\n",
       "      <td>0.972500</td>\n",
       "      <td>0.507463</td>\n",
       "      <td>3410.000000</td>\n",
       "      <td>6946.000000</td>\n",
       "      <td>8714.000000</td>\n",
       "    </tr>\n",
       "  </tbody>\n",
       "</table>\n",
       "</div>"
      ],
      "text/plain": [
       "          holiday     weekday  workingday        temp       atemp         hum  \\\n",
       "count  731.000000  731.000000  731.000000  731.000000  731.000000  731.000000   \n",
       "mean     0.028728    2.997264    0.683995    0.495385    0.474354    0.627894   \n",
       "std      0.167155    2.004787    0.465233    0.183051    0.162961    0.142429   \n",
       "min      0.000000    0.000000    0.000000    0.059130    0.079070    0.000000   \n",
       "25%      0.000000    1.000000    0.000000    0.337083    0.337842    0.520000   \n",
       "50%      0.000000    3.000000    1.000000    0.498333    0.486733    0.626667   \n",
       "75%      0.000000    5.000000    1.000000    0.655417    0.608602    0.730209   \n",
       "max      1.000000    6.000000    1.000000    0.861667    0.840896    0.972500   \n",
       "\n",
       "        windspeed       casual   registered          cnt  \n",
       "count  731.000000   731.000000   731.000000   731.000000  \n",
       "mean     0.190486   848.176471  3656.172367  4504.348837  \n",
       "std      0.077498   686.622488  1560.256377  1937.211452  \n",
       "min      0.022392     2.000000    20.000000    22.000000  \n",
       "25%      0.134950   315.500000  2497.000000  3152.000000  \n",
       "50%      0.180975   713.000000  3662.000000  4548.000000  \n",
       "75%      0.233214  1096.000000  4776.500000  5956.000000  \n",
       "max      0.507463  3410.000000  6946.000000  8714.000000  "
      ]
     },
     "execution_count": 122,
     "metadata": {},
     "output_type": "execute_result"
    }
   ],
   "source": [
    "df_day.describe()"
   ]
  },
  {
   "cell_type": "markdown",
   "metadata": {},
   "source": [
    "**Insight:**\n",
    "\n",
    "- Berdasarkan parameter statistik pada df_day dapat dilihat bahwa jumlah pengguna sebanyak 731.000000 selama satu tahun dengan rata-rata pengguna casual sebesar 848.176471 dan pengguna registered sebesar 3656.172367. Total penyewaan sepeda berdasarkan jumlah pengguna casual dan registered sebesar 8714.000000. Selain itu, pada untuk variabel temp, nilai 50% (median) adalah 0.498, yang dekat dengan nilai rata-rata, menunjukkan distribusi suhu yang simetris. Pada casual, 50% dari nilai berada di bawah 713 penyewa, sedangkan 75% berada di bawah 1096, menunjukkan bahwa lebih dari separuh hari memiliki jumlah penyewa kasual yang lebih rendah dari nilai tersebut, namun masih terdapat hari-hari dengan penyewa jauh lebih tinggi."
   ]
  },
  {
   "cell_type": "markdown",
   "metadata": {},
   "source": [
    "#### Menghitung persentase pengguna yang memilih menggunakan sepeda sewaan saat hari kerja"
   ]
  },
  {
   "cell_type": "code",
   "execution_count": 123,
   "metadata": {},
   "outputs": [
    {
     "data": {
      "text/plain": [
       "array([0, 1], dtype=int64)"
      ]
     },
     "execution_count": 123,
     "metadata": {},
     "output_type": "execute_result"
    }
   ],
   "source": [
    "df_day[\"workingday\"].unique()"
   ]
  },
  {
   "cell_type": "code",
   "execution_count": 135,
   "metadata": {},
   "outputs": [
    {
     "name": "stdout",
     "output_type": "stream",
     "text": [
      "+----------------+------------------+----------------+\n",
      "|   Hari Kerja   | Jumlah Penyewaan | Persentase (%) |\n",
      "+----------------+------------------+----------------+\n",
      "| Hari Kerja (1) |     2292410      |     69.62      |\n",
      "+----------------+------------------+----------------+\n"
     ]
    }
   ],
   "source": [
    "# Filter untuk hari kerja saja\n",
    "df_workingday = df_day[df_day['workingday'] == 1]\n",
    "total_users_workingday = df_workingday['cnt'].sum()\n",
    "\n",
    "# Hitung total penyewaan untuk semua hari\n",
    "total_users_all = df_day['cnt'].sum()\n",
    "\n",
    "# Hitung persentase pengguna yang memilih sepeda sewaan saat hari kerja\n",
    "percentage_workingday = (total_users_workingday / total_users_all) * 100\n",
    "\n",
    "# Membuat tabel menggunakan PrettyTable\n",
    "users_table = PrettyTable()\n",
    "users_table.field_names = [\"Hari Kerja\", \"Jumlah Penyewaan\", \"Persentase (%)\"]\n",
    "\n",
    "# Menambahkan baris untuk kategori hari kerja\n",
    "users_table.add_row([\"Hari Kerja (1)\", total_users_workingday, round(percentage_workingday, 2)])\n",
    "\n",
    "# Menampilkan tabel\n",
    "print(users_table)"
   ]
  },
  {
   "cell_type": "markdown",
   "metadata": {},
   "source": [
    "**Insight:**\n",
    "- Penggunaan sepeda sewa pada hari kerja sebanyak 2.292.410 dengan persentase 69.62% yang menunjukkan adanya kecenderungan kuat untuk menjadikan sepeda sebagai transportasi utama untuk bekerja. Hal ini dapat berdampak baik bagi kesehatan maupun lingkungan serta mengurangi kepadatan lalu lintas"
   ]
  },
  {
   "cell_type": "markdown",
   "metadata": {},
   "source": [
    "#### Pengaruh musim terhadap penyewaan sepeda per tahunnya"
   ]
  },
  {
   "cell_type": "code",
   "execution_count": 37,
   "metadata": {},
   "outputs": [
    {
     "name": "stdout",
     "output_type": "stream",
     "text": [
      "+------+--------+---------------+\n",
      "| Year | Season | Total Rentals |\n",
      "+------+--------+---------------+\n",
      "| 2012 | Summer |     620940    |\n",
      "| 2012 |  Fall  |     570078    |\n",
      "| 2012 | Spring |     534964    |\n",
      "| 2011 | Summer |     421544    |\n",
      "| 2011 |  Fall  |     353096    |\n",
      "| 2012 | Winter |     323594    |\n",
      "| 2011 | Spring |     294736    |\n",
      "| 2011 | Winter |     173727    |\n",
      "+------+--------+---------------+\n"
     ]
    }
   ],
   "source": [
    "# Buat kolom 'season' dan 'year'\n",
    "df_day['season'] = df_day['dteday'].dt.month.apply(get_season)\n",
    "df_day['year'] = df_day['dteday'].dt.year\n",
    "\n",
    "# Hitung jumlah penyewaan terbanyak (maksimal) berdasarkan musim per tahun\n",
    "max_rental_by_season_year = df_day.groupby(['year', 'season']).cnt.sum().sort_values(ascending=False).reset_index().head(10)\n",
    "\n",
    "# Membuat PrettyTable untuk menampilkan hasil\n",
    "table = PrettyTable()\n",
    "\n",
    "# Menambahkan header tabel\n",
    "table.field_names = [\"Year\", \"Season\", \"Total Rentals\"]\n",
    "\n",
    "# Menambahkan data ke tabel dari hasil maksimal penyewaan per musim per tahun\n",
    "for _, row in max_rental_by_season_year.iterrows():\n",
    "    table.add_row([row['year'], row['season'], row['cnt']])\n",
    "\n",
    "# Print tabel\n",
    "print(table)"
   ]
  },
  {
   "cell_type": "markdown",
   "metadata": {},
   "source": [
    "**Insight:**\n",
    "\n",
    "- Berdasarkan tabel diatas, musim panas (Summer) di tahun 2012 menunjukkan penyewaan sepeda tertinggi dengan 620.940 total penyewaan. Ini menandakan bahwa musim panas memberikan kondisi cuaca yang optimal untuk aktivitas luar ruangan seperti bersepeda. Faktor cuaca seperti suhu hangat, lebih banyak hari cerah, dan ketersediaan waktu liburan (bagi pelajar atau pekerja) mungkin berkontribusi pada tingginya angka penyewaan ini."
   ]
  },
  {
   "cell_type": "markdown",
   "metadata": {
    "id": "MW7WF2kr8DC1"
   },
   "source": [
    "### Explore Data df_hour"
   ]
  },
  {
   "cell_type": "code",
   "execution_count": 35,
   "metadata": {
    "id": "e9CQCZjk8DC2"
   },
   "outputs": [
    {
     "data": {
      "text/html": [
       "<div>\n",
       "<style scoped>\n",
       "    .dataframe tbody tr th:only-of-type {\n",
       "        vertical-align: middle;\n",
       "    }\n",
       "\n",
       "    .dataframe tbody tr th {\n",
       "        vertical-align: top;\n",
       "    }\n",
       "\n",
       "    .dataframe thead th {\n",
       "        text-align: right;\n",
       "    }\n",
       "</style>\n",
       "<table border=\"1\" class=\"dataframe\">\n",
       "  <thead>\n",
       "    <tr style=\"text-align: right;\">\n",
       "      <th></th>\n",
       "      <th>season</th>\n",
       "      <th>yr</th>\n",
       "      <th>mnth</th>\n",
       "      <th>hr</th>\n",
       "      <th>holiday</th>\n",
       "      <th>weekday</th>\n",
       "      <th>workingday</th>\n",
       "      <th>weathersit</th>\n",
       "      <th>temp</th>\n",
       "      <th>atemp</th>\n",
       "      <th>hum</th>\n",
       "      <th>windspeed</th>\n",
       "      <th>casual</th>\n",
       "      <th>registered</th>\n",
       "      <th>cnt</th>\n",
       "    </tr>\n",
       "  </thead>\n",
       "  <tbody>\n",
       "    <tr>\n",
       "      <th>count</th>\n",
       "      <td>17379.000000</td>\n",
       "      <td>17379.000000</td>\n",
       "      <td>17379.000000</td>\n",
       "      <td>17379.000000</td>\n",
       "      <td>17379.000000</td>\n",
       "      <td>17379.000000</td>\n",
       "      <td>17379.000000</td>\n",
       "      <td>17379.000000</td>\n",
       "      <td>17379.000000</td>\n",
       "      <td>17379.000000</td>\n",
       "      <td>17379.000000</td>\n",
       "      <td>17379.000000</td>\n",
       "      <td>17379.000000</td>\n",
       "      <td>17379.000000</td>\n",
       "      <td>17379.000000</td>\n",
       "    </tr>\n",
       "    <tr>\n",
       "      <th>mean</th>\n",
       "      <td>2.501640</td>\n",
       "      <td>0.502561</td>\n",
       "      <td>6.537775</td>\n",
       "      <td>11.546752</td>\n",
       "      <td>0.028770</td>\n",
       "      <td>3.003683</td>\n",
       "      <td>0.682721</td>\n",
       "      <td>1.425283</td>\n",
       "      <td>0.496987</td>\n",
       "      <td>0.475775</td>\n",
       "      <td>0.627229</td>\n",
       "      <td>0.190098</td>\n",
       "      <td>35.676218</td>\n",
       "      <td>153.786869</td>\n",
       "      <td>189.463088</td>\n",
       "    </tr>\n",
       "    <tr>\n",
       "      <th>std</th>\n",
       "      <td>1.106918</td>\n",
       "      <td>0.500008</td>\n",
       "      <td>3.438776</td>\n",
       "      <td>6.914405</td>\n",
       "      <td>0.167165</td>\n",
       "      <td>2.005771</td>\n",
       "      <td>0.465431</td>\n",
       "      <td>0.639357</td>\n",
       "      <td>0.192556</td>\n",
       "      <td>0.171850</td>\n",
       "      <td>0.192930</td>\n",
       "      <td>0.122340</td>\n",
       "      <td>49.305030</td>\n",
       "      <td>151.357286</td>\n",
       "      <td>181.387599</td>\n",
       "    </tr>\n",
       "    <tr>\n",
       "      <th>min</th>\n",
       "      <td>1.000000</td>\n",
       "      <td>0.000000</td>\n",
       "      <td>1.000000</td>\n",
       "      <td>0.000000</td>\n",
       "      <td>0.000000</td>\n",
       "      <td>0.000000</td>\n",
       "      <td>0.000000</td>\n",
       "      <td>1.000000</td>\n",
       "      <td>0.020000</td>\n",
       "      <td>0.000000</td>\n",
       "      <td>0.000000</td>\n",
       "      <td>0.000000</td>\n",
       "      <td>0.000000</td>\n",
       "      <td>0.000000</td>\n",
       "      <td>1.000000</td>\n",
       "    </tr>\n",
       "    <tr>\n",
       "      <th>25%</th>\n",
       "      <td>2.000000</td>\n",
       "      <td>0.000000</td>\n",
       "      <td>4.000000</td>\n",
       "      <td>6.000000</td>\n",
       "      <td>0.000000</td>\n",
       "      <td>1.000000</td>\n",
       "      <td>0.000000</td>\n",
       "      <td>1.000000</td>\n",
       "      <td>0.340000</td>\n",
       "      <td>0.333300</td>\n",
       "      <td>0.480000</td>\n",
       "      <td>0.104500</td>\n",
       "      <td>4.000000</td>\n",
       "      <td>34.000000</td>\n",
       "      <td>40.000000</td>\n",
       "    </tr>\n",
       "    <tr>\n",
       "      <th>50%</th>\n",
       "      <td>3.000000</td>\n",
       "      <td>1.000000</td>\n",
       "      <td>7.000000</td>\n",
       "      <td>12.000000</td>\n",
       "      <td>0.000000</td>\n",
       "      <td>3.000000</td>\n",
       "      <td>1.000000</td>\n",
       "      <td>1.000000</td>\n",
       "      <td>0.500000</td>\n",
       "      <td>0.484800</td>\n",
       "      <td>0.630000</td>\n",
       "      <td>0.194000</td>\n",
       "      <td>17.000000</td>\n",
       "      <td>115.000000</td>\n",
       "      <td>142.000000</td>\n",
       "    </tr>\n",
       "    <tr>\n",
       "      <th>75%</th>\n",
       "      <td>3.000000</td>\n",
       "      <td>1.000000</td>\n",
       "      <td>10.000000</td>\n",
       "      <td>18.000000</td>\n",
       "      <td>0.000000</td>\n",
       "      <td>5.000000</td>\n",
       "      <td>1.000000</td>\n",
       "      <td>2.000000</td>\n",
       "      <td>0.660000</td>\n",
       "      <td>0.621200</td>\n",
       "      <td>0.780000</td>\n",
       "      <td>0.253700</td>\n",
       "      <td>48.000000</td>\n",
       "      <td>220.000000</td>\n",
       "      <td>281.000000</td>\n",
       "    </tr>\n",
       "    <tr>\n",
       "      <th>max</th>\n",
       "      <td>4.000000</td>\n",
       "      <td>1.000000</td>\n",
       "      <td>12.000000</td>\n",
       "      <td>23.000000</td>\n",
       "      <td>1.000000</td>\n",
       "      <td>6.000000</td>\n",
       "      <td>1.000000</td>\n",
       "      <td>4.000000</td>\n",
       "      <td>1.000000</td>\n",
       "      <td>1.000000</td>\n",
       "      <td>1.000000</td>\n",
       "      <td>0.850700</td>\n",
       "      <td>367.000000</td>\n",
       "      <td>886.000000</td>\n",
       "      <td>977.000000</td>\n",
       "    </tr>\n",
       "  </tbody>\n",
       "</table>\n",
       "</div>"
      ],
      "text/plain": [
       "             season            yr          mnth            hr       holiday  \\\n",
       "count  17379.000000  17379.000000  17379.000000  17379.000000  17379.000000   \n",
       "mean       2.501640      0.502561      6.537775     11.546752      0.028770   \n",
       "std        1.106918      0.500008      3.438776      6.914405      0.167165   \n",
       "min        1.000000      0.000000      1.000000      0.000000      0.000000   \n",
       "25%        2.000000      0.000000      4.000000      6.000000      0.000000   \n",
       "50%        3.000000      1.000000      7.000000     12.000000      0.000000   \n",
       "75%        3.000000      1.000000     10.000000     18.000000      0.000000   \n",
       "max        4.000000      1.000000     12.000000     23.000000      1.000000   \n",
       "\n",
       "            weekday    workingday    weathersit          temp         atemp  \\\n",
       "count  17379.000000  17379.000000  17379.000000  17379.000000  17379.000000   \n",
       "mean       3.003683      0.682721      1.425283      0.496987      0.475775   \n",
       "std        2.005771      0.465431      0.639357      0.192556      0.171850   \n",
       "min        0.000000      0.000000      1.000000      0.020000      0.000000   \n",
       "25%        1.000000      0.000000      1.000000      0.340000      0.333300   \n",
       "50%        3.000000      1.000000      1.000000      0.500000      0.484800   \n",
       "75%        5.000000      1.000000      2.000000      0.660000      0.621200   \n",
       "max        6.000000      1.000000      4.000000      1.000000      1.000000   \n",
       "\n",
       "                hum     windspeed        casual    registered           cnt  \n",
       "count  17379.000000  17379.000000  17379.000000  17379.000000  17379.000000  \n",
       "mean       0.627229      0.190098     35.676218    153.786869    189.463088  \n",
       "std        0.192930      0.122340     49.305030    151.357286    181.387599  \n",
       "min        0.000000      0.000000      0.000000      0.000000      1.000000  \n",
       "25%        0.480000      0.104500      4.000000     34.000000     40.000000  \n",
       "50%        0.630000      0.194000     17.000000    115.000000    142.000000  \n",
       "75%        0.780000      0.253700     48.000000    220.000000    281.000000  \n",
       "max        1.000000      0.850700    367.000000    886.000000    977.000000  "
      ]
     },
     "execution_count": 35,
     "metadata": {},
     "output_type": "execute_result"
    }
   ],
   "source": [
    "df_hour.describe()"
   ]
  },
  {
   "cell_type": "markdown",
   "metadata": {},
   "source": [
    "**Insight:**\n",
    "\n",
    "- Berdasarkan tabel pivot diatas, setiap variabel memiliki 17,379 record, menunjukkan bahwa tidak ada nilai yang hilang dalam dataset ini. Rata-rata jumlah pengguna casual adalah 49.305030 sedangkan pengguna registered adalah 151.357286. Selain itu, rata-rata untuk season adalah 2.49, yang menunjukkan bahwa distribusi data cenderung berada di tengah-tengah musim 1 sampai 4."
   ]
  },
  {
   "cell_type": "markdown",
   "metadata": {},
   "source": [
    "#### Menghitung nilai rata-rata penyewaan sepeda per jam"
   ]
  },
  {
   "cell_type": "code",
   "execution_count": 36,
   "metadata": {},
   "outputs": [
    {
     "name": "stdout",
     "output_type": "stream",
     "text": [
      "+-----+---------------------+\n",
      "| Jam | Rata-rata Penyewaan |\n",
      "+-----+---------------------+\n",
      "|  0  |         53.9        |\n",
      "|  1  |        33.38        |\n",
      "|  2  |        22.87        |\n",
      "|  3  |        11.73        |\n",
      "|  4  |         6.35        |\n",
      "|  5  |        19.89        |\n",
      "|  6  |        76.04        |\n",
      "|  7  |        212.06       |\n",
      "|  8  |        359.01       |\n",
      "|  9  |        219.31       |\n",
      "|  10 |        173.67       |\n",
      "|  11 |        208.14       |\n",
      "|  12 |        253.32       |\n",
      "|  13 |        253.66       |\n",
      "|  14 |        240.95       |\n",
      "|  15 |        251.23       |\n",
      "|  16 |        311.98       |\n",
      "|  17 |        461.45       |\n",
      "|  18 |        425.51       |\n",
      "|  19 |        311.52       |\n",
      "|  20 |        226.03       |\n",
      "|  21 |        172.31       |\n",
      "|  22 |        131.34       |\n",
      "|  23 |        87.83        |\n",
      "+-----+---------------------+\n"
     ]
    }
   ],
   "source": [
    "# Menghitung rata-rata penyewaan sepeda per jam\n",
    "average_hourly_rentals = df_hour.groupby('hr')['cnt'].mean().round(2)\n",
    "\n",
    "# Membuat tabel dengan PrettyTable\n",
    "table = PrettyTable()\n",
    "table.field_names = [\"Jam\", \"Rata-rata Penyewaan\"]\n",
    "\n",
    "# Menambahkan data ke tabel\n",
    "for hour, avg in average_hourly_rentals.items():\n",
    "    table.add_row([hour, avg])\n",
    "\n",
    "# Menampilkan tabel\n",
    "print(table)"
   ]
  },
  {
   "cell_type": "markdown",
   "metadata": {
    "id": "th_Lzl2Fkj9O"
   },
   "source": [
    "**Insight:**\n",
    "- Berdasarkan tabel diatas dapat diambil kesimpulan bahwa terdapat angka yang tinggi pada jam-jam tertentu (misalnya antara jam 7 hingga 9 pagi dan 5 hingga 7 sore), ini menunjukkan bahwa banyak orang menggunakan sepeda untuk berangkat dan pulang kerja."
   ]
  },
  {
   "cell_type": "code",
   "execution_count": 22,
   "metadata": {},
   "outputs": [
    {
     "name": "stdout",
     "output_type": "stream",
     "text": [
      "+------+---------------+----------------+\n",
      "| Year | Total Rentals | Percentage (%) |\n",
      "+------+---------------+----------------+\n",
      "| 2011 |    1243103    |     37.75      |\n",
      "| 2012 |    2049576    |     62.25      |\n",
      "+------+---------------+----------------+\n"
     ]
    }
   ],
   "source": [
    "# Menghitung jumlah penyewaan untuk setiap tahun\n",
    "rental_counts = df_day.groupby('yr')['cnt'].sum()\n",
    "\n",
    "# Menghitung total penyewaan\n",
    "total_rentals = rental_counts.sum()\n",
    "\n",
    "# Menghitung persentase penyewaan untuk setiap tahun\n",
    "percentage_rentals = (rental_counts / total_rentals) * 100\n",
    "\n",
    "# Membuat tabel menggunakan PrettyTable\n",
    "percentage_table = PrettyTable()\n",
    "percentage_table.field_names = [\"Year\", \"Total Rentals\", \"Percentage (%)\"]\n",
    "\n",
    "# Menambahkan baris untuk setiap tahun\n",
    "for year, count in rental_counts.items():\n",
    "    percentage_table.add_row([year, count, round(percentage_rentals[year], 2)])\n",
    "\n",
    "# Menampilkan tabel\n",
    "print(percentage_table)"
   ]
  },
  {
   "cell_type": "markdown",
   "metadata": {},
   "source": [
    "**Insight:**\n",
    "- Dari tabel diatas dapat ditarik kesimpulan bahwa penyewaan sepeda mengalami pertumbuhan yang signifikan dari tahun 2011 ke tahun 2012. Dimana pada tahun 2012 persentasenya menjadi 62.25% dari 37.75% dengan total penyewaan 2.049.576 penyewa. "
   ]
  },
  {
   "cell_type": "code",
   "execution_count": 40,
   "metadata": {},
   "outputs": [
    {
     "name": "stdout",
     "output_type": "stream",
     "text": [
      "+------------+-------------+\n",
      "| User Type  | Total Users |\n",
      "+------------+-------------+\n",
      "|   Casual   |    620017   |\n",
      "| Registered |   2672662   |\n",
      "+------------+-------------+\n"
     ]
    }
   ],
   "source": [
    "# Menghitung total user di kolom casual dan registered pada data hour\n",
    "total_casual = df_hour[\"casual\"].sum()\n",
    "total_registered = df_hour[\"registered\"].sum()\n",
    "\n",
    "# Membuat tabel menggunakan PrettyTable\n",
    "comparison_table = PrettyTable()\n",
    "comparison_table.field_names = [\"User Type\", \"Total Users\"]\n",
    "\n",
    "# Menambahkan baris untuk pengguna kasual dan terdaftar\n",
    "comparison_table.add_row([\"Casual\", total_casual])\n",
    "comparison_table.add_row([\"Registered\", total_registered])\n",
    "\n",
    "# Menampilkan tabel\n",
    "print(comparison_table)\n"
   ]
  },
  {
   "cell_type": "markdown",
   "metadata": {},
   "source": [
    "**Insight:**\n",
    "- Dari tabel diatas dapat dilihat bahwa penyewa sepeda didominasi oleh registered user sebanyak 2.672.666 orang. Hal ini menunjukkan pelayanan yang diberikan oleh perusahaan berhasil menarik pengguna tetap yang menggunakan sepeda sebagai transportasi sehari-hari"
   ]
  },
  {
   "cell_type": "markdown",
   "metadata": {
    "id": "zsyZjqak8DC2"
   },
   "source": [
    "## Visualization & Explanatory Analysis"
   ]
  },
  {
   "cell_type": "markdown",
   "metadata": {
    "id": "HZxOiQ6n8DC2"
   },
   "source": [
    "### Pertanyaan 1:"
   ]
  },
  {
   "cell_type": "markdown",
   "metadata": {},
   "source": [
    "#### Berapa rata-rata penyewaan sepeda tiap jam?"
   ]
  },
  {
   "cell_type": "code",
   "execution_count": 46,
   "metadata": {},
   "outputs": [
    {
     "data": {
      "image/png": "[encoded data removed]",
      "text/plain": [
       "<Figure size 1000x600 with 1 Axes>"
      ]
     },
     "metadata": {},
     "output_type": "display_data"
    }
   ],
   "source": [
    "# Menghitung rata-rata penyewaan tiap jam\n",
    "average_hourly_rentals = df_hour.groupby('hr')['cnt'].mean().round(2)\n",
    "\n",
    "# Visualisasi dengan Line Chart\n",
    "plt.figure(figsize=(10,6))\n",
    "plt.plot(average_hourly_rentals.index, average_hourly_rentals.values, \n",
    "         marker='o', color='#1f77b4', markersize=8, linestyle='-', linewidth=2)\n",
    "plt.title('Rata-Rata Penyewaan Sepeda per Jam', fontsize=16, fontweight='bold')\n",
    "plt.xlabel('Jam dalam Sehari', fontsize=14)\n",
    "plt.ylabel('Rata-rata Jumlah Penyewaan', fontsize=14)\n",
    "plt.grid(True)\n",
    "plt.xticks(range(0, 24))\n",
    "plt.show()"
   ]
  },
  {
   "cell_type": "markdown",
   "metadata": {},
   "source": [
    "**Insight:**\n",
    "- Dari line chart diatas dapat diambil kesimpulan bahwa rata-rata jam penyewaan terbanyak adalah pulu 17.00-18.00 dan rata-rata terendah ada pada jam 04.00 "
   ]
  },
  {
   "cell_type": "markdown",
   "metadata": {
    "id": "HZxOiQ6n8DC2"
   },
   "source": [
    "### Pertanyaan 2:"
   ]
  },
  {
   "cell_type": "markdown",
   "metadata": {},
   "source": [
    "#### Berapa persentase pengguna yang memilih menggunakan sepeda sewaan saat hari kerja?"
   ]
  },
  {
   "cell_type": "code",
   "execution_count": 136,
   "metadata": {},
   "outputs": [
    {
     "data": {
      "image/png": "[encoded data removed]",
      "text/plain": [
       "<Figure size 800x600 with 1 Axes>"
      ]
     },
     "metadata": {},
     "output_type": "display_data"
    }
   ],
   "source": [
    "# Filter untuk hari kerja saja\n",
    "df_workingday = df_day[df_day['workingday'] == 1]\n",
    "total_users_workingday = df_workingday['cnt'].sum()\n",
    "\n",
    "# Hitung total penyewaan untuk semua hari\n",
    "total_users_all = df_day['cnt'].sum()\n",
    "\n",
    "# Hitung persentase pengguna yang memilih sepeda sewaan saat hari kerja\n",
    "percentage_workingday = (total_users_workingday / total_users_all) * 100\n",
    "percentage_non_workingday = 100 - percentage_workingday\n",
    "\n",
    "# Data untuk pie chart\n",
    "labels = ['Hari Kerja', 'Hari Non Kerja']\n",
    "sizes = [percentage_workingday, percentage_non_workingday]\n",
    "colors = ['#6A5ACD', '#FF6F61']  # Warna untuk pie chart\n",
    "explode = (0.1, 0)  # Menggunakan efek explode pada slice hari kerja\n",
    "\n",
    "# Membuat pie chart\n",
    "plt.figure(figsize=(8, 6))\n",
    "plt.pie(sizes, explode=explode, labels=labels, colors=colors,\n",
    "        autopct='%1.1f%%', shadow=True, startangle=140)\n",
    "plt.title('Persentase Pengguna Sepeda Sewaan Saat Hari Kerja vs. Hari Non Kerja', fontsize=16, fontweight='bold')\n",
    "\n",
    "# Menampilkan chart\n",
    "plt.axis('equal')\n",
    "plt.show()"
   ]
  },
  {
   "cell_type": "markdown",
   "metadata": {
    "id": "_0-36BDLklRg"
   },
   "source": [
    "**Insight:**\n",
    "- Berdasarkan pie chart diatas, persentase pengguna sepeda sewaan yang menggunakan sepeda pada hari kerja dibandingkan dengan hari non kerja sebesar 69.6%, 39.5% lebih banyak dibandingkan hari non kerja. Data yang digunakan dalam visualisasi ini diambil dari dataset penyewaan sepeda dan telah difilter untuk menunjukkan perbedaan jumlah penyewaan sepeda di antara kedua kategori tersebut."
   ]
  },
  {
   "cell_type": "markdown",
   "metadata": {
    "id": "HZxOiQ6n8DC2"
   },
   "source": [
    "### Pertanyaan :"
   ]
  },
  {
   "cell_type": "markdown",
   "metadata": {
    "id": "Go0lCsvO8DC2"
   },
   "source": [
    "#### Berapa persentase penyewaan sepeda pada dari tahun 2011-2012?"
   ]
  },
  {
   "cell_type": "code",
   "execution_count": 39,
   "metadata": {
    "scrolled": true
   },
   "outputs": [
    {
     "data": {
      "image/png": "[encoded data removed]",
      "text/plain": [
       "<Figure size 640x480 with 1 Axes>"
      ]
     },
     "metadata": {},
     "output_type": "display_data"
    }
   ],
   "source": [
    "# Menghitung jumlah penyewaan untuk setiap tahun\n",
    "rental_counts = df_day.groupby('yr')['cnt'].sum()\n",
    "\n",
    "# Membuat donut pie chart\n",
    "wedges, texts, autotexts = plt.pie(rental_counts, \n",
    "                                    autopct='%1.1f%%', \n",
    "                                    startangle=90, \n",
    "                                    colors=[\"#72BCD4\", \"#FFB74D\"],\n",
    "                                    wedgeprops=dict(width=0.3))  # Menambahkan lebar untuk donut\n",
    "\n",
    "# Menambahkan label tahun\n",
    "labels = ['2011', '2012']  # Label tahun\n",
    "for i, text in enumerate(texts):\n",
    "    text.set_text(labels[i])  # Mengatur teks label menjadi tahun\n",
    "\n",
    "plt.title(\"Persentase Penyewaan Sepeda Tahun 2011-2012\", fontsize=14)\n",
    "plt.axis('equal')  # Menjaga agar pie chart berbentuk lingkaran\n",
    "plt.show()"
   ]
  },
  {
   "cell_type": "markdown",
   "metadata": {
    "id": "_0-36BDLklRg"
   },
   "source": [
    "**Insight:**\n",
    "- Berdasarkan pie chart diatas, persentase penyewaan sepeda pada tahun 2011 sebesar 37.8% sedangkan pada tahun 2021 sebesar 62.2%. Terdapat kenaikan penggunaan sepeda sewaan sebesar 24.4% dari tahun 2011 sampai 2012."
   ]
  },
  {
   "cell_type": "markdown",
   "metadata": {
    "id": "DgHI7CiU8DC2"
   },
   "source": [
    "### Pertanyaan 4:"
   ]
  },
  {
   "cell_type": "markdown",
   "metadata": {
    "id": "1swJUdAD8DC2"
   },
   "source": [
    "#### Bagaimana perbandingan antara casual user dengan registered users?"
   ]
  },
  {
   "cell_type": "code",
   "execution_count": 40,
   "metadata": {},
   "outputs": [
    {
     "data": {
      "image/png": "[encoded data removed]",
      "text/plain": [
       "<Figure size 600x400 with 1 Axes>"
      ]
     },
     "metadata": {},
     "output_type": "display_data"
    }
   ],
   "source": [
    "# Mengitung total user dikolom casual dan registered pada data hour\n",
    "total_casual = df_hour[\"casual\"].sum()\n",
    "total_registered = df_hour[\"registered\"].sum()\n",
    "\n",
    "# Membuat DataFrame untuk perbandingan\n",
    "comparison_df = pd.DataFrame({\n",
    "    'User Type': ['Casual', 'Registered'],\n",
    "    'Total Users': [total_casual, total_registered]\n",
    "})\n",
    "\n",
    "# Membuat figure\n",
    "plt.figure(figsize=(6, 4))\n",
    "\n",
    "# Membuat grafik batang untuk perbandingan pengguna\n",
    "plt.bar(comparison_df['User Type'], comparison_df['Total Users'], color=['skyblue', 'orange'])\n",
    "\n",
    "# Memberi label pada grafik\n",
    "plt.title('Perbandingan Total Pengguna Kasual dan Terdaftar', fontsize=16, pad=20)\n",
    "plt.xlabel('Tipe Pengguna', fontsize=14)\n",
    "plt.ylabel('Total Pengguna', fontsize=14)\n",
    "\n",
    "# Menampilkan nilai di atas batang\n",
    "for i, v in enumerate(comparison_df['Total Users']):\n",
    "    plt.text(i, v + 0.001 * max(comparison_df['Total Users']), str(v), ha='center', fontsize=12)\n",
    "\n",
    "plt.show()"
   ]
  },
  {
   "cell_type": "markdown",
   "metadata": {
    "id": "_0-36BDLklRg"
   },
   "source": [
    "**Insight:**\n",
    "- Berdasarkan bar plot diatas total casual user sebesar 620017 sedangkan registered user sebesar 2672662.  Ini menunjukkan bahwa pengguna terdaftar (registered users) jauh lebih banyak dibandingkan pengguna kasual (casual users), dengan proporsi yang mencolok. Hal ini dapat diartikan bahwa banyak orang yang memilih untuk mendaftar dan menjadi pengguna tetap, yang kemungkinan mendapatkan manfaat tambahan seperti tarif yang lebih murah atau akses ke layanan eksklusif."
   ]
  },
  {
   "cell_type": "markdown",
   "metadata": {},
   "source": [
    "### Pertanyaan 5:"
   ]
  },
  {
   "cell_type": "markdown",
   "metadata": {},
   "source": [
    "#### Bagaimana pengaruh musim terhadap penyewaan sepeda?"
   ]
  },
  {
   "cell_type": "code",
   "execution_count": 144,
   "metadata": {},
   "outputs": [
    {
     "data": {
      "image/png": "[encoded data removed]",
      "text/plain": [
       "<Figure size 1200x600 with 1 Axes>"
      ]
     },
     "metadata": {},
     "output_type": "display_data"
    }
   ],
   "source": [
    "# Hitung jumlah penyewaan berdasarkan musim per tahun\n",
    "seasonal_rentals = df_day.groupby(['year', 'season'])['cnt'].sum().unstack(fill_value=0)\n",
    "\n",
    "# Visualisasi menggunakan bar plot\n",
    "seasonal_rentals.plot(kind='bar', figsize=(12, 6))\n",
    "\n",
    "# Menambahkan judul dan label\n",
    "plt.title('Perkembangan Penyewaan Sepeda Berdasarkan Musim', fontsize=16, fontweight='bold')\n",
    "plt.xlabel('Tahun', fontsize=12)\n",
    "plt.ylabel('Jumlah Penyewaan', fontsize=12)\n",
    "plt.xticks(rotation=0)\n",
    "plt.legend(title='Musim')\n",
    "\n",
    "# Menampilkan chart\n",
    "plt.grid(axis='y')\n",
    "plt.show()"
   ]
  },
  {
   "cell_type": "markdown",
   "metadata": {
    "id": "_0-36BDLklRg"
   },
   "source": [
    "**Insight:**\n",
    "- Berdasarkan bar plot diatas, tahun 2012 merupakan tahun dengan penyewa terbanyak dengan minimum jumlah penyewa pada musim dingin sebesar 323.594 dan jumlah penyewa terbanyak pada musim panas sebesar 620.940. Hal ini menunjukkan kondisi musim sangat mempengaruhi jumlah penyewaan sepeda."
   ]
  },
  {
   "cell_type": "markdown",
   "metadata": {
    "id": "_WeHlCeX8DC2"
   },
   "source": [
    "## Conclusion"
   ]
  },
  {
   "cell_type": "markdown",
   "metadata": {
    "id": "ZTcyR48Y8DC2"
   },
   "source": [
    "- Terdapat puncak penggunaan sepeda sewaan pada jam sibuk, khususnya antara jam 7 hingga 9 pagi dan 5 hingga 7 sore. Hal ini menunjukkan bahwa sepeda sering digunakan sebagai moda transportasi oleh banyak orang untuk pergi dan pulang dari tempat kerja, menegaskan popularitas sepeda sebagai pilihan transportasi di jam-jam tersebut.\n",
    "- Dengan 2.292.410 pengguna sepeda sewaan pada hari kerja, data ini mengindikasikan adanya kecenderungan yang kuat untuk menjadikan sepeda sebagai sarana transportasi utama. Hal ini tidak hanya berdampak positif bagi kesehatan individu, tetapi juga membantu mengurangi kemacetan lalu lintas dan meningkatkan kesadaran lingkungan.\n",
    "- Persentase penyewaan sepeda mengalami peningkatan yang signifikan dari 37.8% pada tahun 2011 menjadi 62.2% pada tahun 2012, mencerminkan kenaikan sebesar 24.4%. Peningkatan ini menunjukkan bahwa semakin banyak orang beralih ke sepeda sewaan, memberikan peluang bagi pengelola untuk meningkatkan infrastruktur dan fasilitas bersepeda, serta memotivasi lebih banyak orang untuk menggunakan sepeda sebagai moda transportasi sehari-hari.\n",
    "- Dengan total 620,017 casual user dan 2,672,662 registered users, jelas terlihat bahwa pengguna terdaftar memiliki jumlah yang jauh lebih besar dibandingkan pengguna kasual. Hal ini menunjukkan bahwa banyak orang lebih memilih untuk mendaftar sebagai pengguna tetap, yang mungkin mendapatkan manfaat lebih, seperti tarif yang lebih murah. Adanya basis pengguna yang loyal ini berpotensi meningkatkan pendapatan dan keberlanjutan program penyewaan sepeda, serta menunjukkan bahwa kebijakan dan infrastruktur mendukung penggunaan sepeda sebagai pilihan transportasi yang praktis dan efisien.\n",
    "- Berdasarkan bar plot yang dianalisis, tahun 2012 mencatatkan penyewaan sepeda terbanyak, dengan 620.940 penyewa pada musim panas dan 323.594 penyewa pada musim dingin. Data ini menegaskan bahwa kondisi musim memiliki pengaruh signifikan terhadap jumlah penyewaan sepeda. Tingginya jumlah penyewa pada musim panas menunjukkan bahwa cuaca yang lebih hangat dan nyaman sangat mendukung minat masyarakat untuk menggunakan sepeda sebagai moda transportasi. Sedangkan penurunan jumlah penyewa pada musim dingin mengindikasikan bahwa kondisi cuaca yang tidak menguntungkan mengurangi daya tarik penyewaan sepeda"
   ]
  },
  {
   "cell_type": "markdown",
   "metadata": {},
   "source": [
    "## Menerapkan teknik analisis lanjutan"
   ]
  },
  {
   "cell_type": "markdown",
   "metadata": {},
   "source": [
    "### RFM Analysis\n",
    "\n",
    "RFM (Recency, Frequency, Monetary) adalah teknik analisis yang digunakan untuk mengevaluasi nilai pelanggan berdasarkan tiga faktor utama: \n",
    "1. Recency (seberapa baru pelanggan melakukan pembelian)\n",
    "2. Frequency (seberapa sering pelanggan melakukan pembelian)\n",
    "3. Monetary (jumlah uang yang dibelanjakan oleh pelanggan)."
   ]
  },
  {
   "cell_type": "code",
   "execution_count": 149,
   "metadata": {
    "scrolled": true
   },
   "outputs": [
    {
     "name": "stdout",
     "output_type": "stream",
     "text": [
      "+------------+----------------+-----------+--------------------------+--------------------+\n",
      "| Registered | Recency (Days) | Frequency | Monetary (Total Rentals) |      Segment       |\n",
      "+------------+----------------+-----------+--------------------------+--------------------+\n",
      "|     20     |       63       |     1     |            22            | Inactive Customers |\n",
      "|    416     |      704       |     1     |           431            | Inactive Customers |\n",
      "|    432     |       5        |     1     |           441            |  Recent Customers  |\n",
      "|    451     |      372       |     1     |           754            | Inactive Customers |\n",
      "|    472     |      705       |     1     |           506            | Inactive Customers |\n",
      "|    491     |      666       |     1     |           605            | Inactive Customers |\n",
      "|    570     |      429       |     1     |           627            | Inactive Customers |\n",
      "|    573     |       6        |     1     |           1013           |  Recent Customers  |\n",
      "|    577     |      662       |     1     |           623            | Inactive Customers |\n",
      "|    654     |      730       |     1     |           985            | Inactive Customers |\n",
      "+------------+----------------+-----------+--------------------------+--------------------+\n"
     ]
    }
   ],
   "source": [
    "# Menggunakan tanggal terakhir dari df_day\n",
    "current_date = df_day['dteday'].max()\n",
    "\n",
    "# Menghitung RFM dengan fungsi sederhana\n",
    "def calculate_rfm(df):\n",
    "    return df.groupby('registered').agg(\n",
    "        Recency=('dteday', lambda x: (current_date - x.max()).days),  # Recency\n",
    "        Frequency=('cnt', 'count'),  # Frequency\n",
    "        Monetary=('cnt', 'sum')  # Monetary (total penyewaan)\n",
    "    ).reset_index()\n",
    "\n",
    "# Menghitung RFM\n",
    "rfm_df = calculate_rfm(df_day)\n",
    "\n",
    "# Mengelompokkan pelanggan menjadi segmen yang lebih sederhana\n",
    "def segment_customers(row):\n",
    "    if row['Recency'] <= 30:\n",
    "        return 'Recent Customers'\n",
    "    elif row['Recency'] <= 60:\n",
    "        return 'Medium Recency Customers'\n",
    "    else:\n",
    "        return 'Inactive Customers'\n",
    "\n",
    "# Menambahkan kolom Segment\n",
    "rfm_df['Segment'] = rfm_df.apply(segment_customers, axis=1)\n",
    "\n",
    "# Menampilkan hasil segmen dengan PrettyTable\n",
    "rfm_table = PrettyTable()\n",
    "rfm_table.field_names = [\"Registered\", \"Recency (Days)\", \"Frequency\", \"Monetary (Total Rentals)\", \"Segment\"]\n",
    "\n",
    "# Menambahkan 10 data pertama ke tabel\n",
    "for index, row in rfm_df.head(10).iterrows():\n",
    "    rfm_table.add_row([row['registered'], row['Recency'], row['Frequency'], row['Monetary'], row['Segment']])\n",
    "\n",
    "# Print tabel\n",
    "print(rfm_table)"
   ]
  },
  {
   "cell_type": "code",
   "execution_count": 150,
   "metadata": {},
   "outputs": [
    {
     "data": {
      "image/png": "[encoded data removed]",
      "text/plain": [
       "<Figure size 800x500 with 1 Axes>"
      ]
     },
     "metadata": {},
     "output_type": "display_data"
    },
    {
     "data": {
      "image/png": "[encoded data removed]",
      "text/plain": [
       "<Figure size 800x500 with 1 Axes>"
      ]
     },
     "metadata": {},
     "output_type": "display_data"
    }
   ],
   "source": [
    "# Visualisasi Jumlah Pelanggan berdasarkan Segmen\n",
    "plt.figure(figsize=(8, 5))\n",
    "rfm_df['Segment'].value_counts().plot(kind='bar', color=['#4CAF50', '#FF9800', '#F44336'])\n",
    "plt.title('Jumlah Pelanggan Berdasarkan Segmen', fontsize=14)\n",
    "plt.xlabel('Segmen Pelanggan', fontsize=12)\n",
    "plt.ylabel('Jumlah Pelanggan', fontsize=12)\n",
    "plt.xticks(rotation=0)\n",
    "plt.grid(axis='y', linestyle='--', alpha=0.7)\n",
    "plt.show()\n",
    "\n",
    "# Visualisasi RFM menggunakan scatter plot\n",
    "plt.figure(figsize=(8, 5))\n",
    "plt.scatter(rfm_df['Recency'], rfm_df['Frequency'], c='blue', alpha=0.5)\n",
    "plt.title('Analisis RFM: Recency vs Frekuensi', fontsize=14)\n",
    "plt.xlabel('Recency (Hari)', fontsize=12)\n",
    "plt.ylabel('Frekuensi (Jumlah Penyewaan)', fontsize=12)\n",
    "plt.grid()\n",
    "plt.show()"
   ]
  },
  {
   "cell_type": "markdown",
   "metadata": {},
   "source": [
    "Berdasarkan hasil segemntasi didapatkan hasil antara lain sebagai berikut.\n",
    "\n",
    "1. Pelanggan dikategorikan menjadi tiga segmen utama berdasarkan nilai Recency:\n",
    "    - Pelanggan Baru (Recent Customers): Pelanggan yang melakukan penyewaan dalam 30 hari terakhir. Segmen ini menunjukkan pelanggan yang aktif dan   mungkin sangat potensial untuk dipertahankan serta diberikan promosi lebih lanjut.\n",
    "    - Pelanggan Sedang (Medium Recency Customers): Pelanggan yang melakukan penyewaan antara 31 hingga 60 hari yang lalu. Pelanggan dalam segmen ini mungkin mulai kehilangan minat dan memerlukan strategi pemasaran untuk menarik perhatian mereka kembali.\n",
    "    - Pelanggan Tidak Aktif (Inactive Customers): Pelanggan yang tidak melakukan penyewaan lebih dari 60 hari. Segmen ini memerlukan perhatian khusus karena mereka berpotensi hilang. Strategi re-engagement mungkin diperlukan untuk menarik mereka kembali.\n",
    "\n",
    "2. Frekuensi penyewaan yang tinggi pada segmen pelanggan baru menunjukkan bahwa pelanggan yang baru saja melakukan penyewaan cenderung lebih aktif. Hal ini menunjukkan adanya peluang untuk menawarkan program loyalitas atau promosi untuk menjaga mereka tetap aktif.\n",
    "\n",
    "3. Berdasarkan segmentasi ini, perusahaan dapat merancang strategi pemasaran yang lebih terfokus dan sesuai dengan setiap segmen. Misalnya, memberikan diskon atau penawaran khusus kepada pelanggan baru untuk mendorong penyewaan berulang, serta kampanye email untuk pelanggan yang tidak aktif untuk menarik mereka kembali."
   ]
  },
  {
   "cell_type": "markdown",
   "metadata": {},
   "source": [
    "## Export Dataset\n",
    "\n",
    "Simpan dataset yang telah dibersihkan untuk digunakan pada streamlit"
   ]
  },
  {
   "cell_type": "code",
   "execution_count": 41,
   "metadata": {},
   "outputs": [],
   "source": [
    "df_day.to_csv('dashboard/main_data.csv', index=False)"
   ]
  }
 ],
 "metadata": {
  "colab": {
   "provenance": []
  },
  "kernelspec": {
   "display_name": "Python 3 (ipykernel)",
   "language": "python",
   "name": "python3"
  },
  "language_info": {
   "codemirror_mode": {
    "name": "ipython",
    "version": 3
   },
   "file_extension": ".py",
   "mimetype": "text/x-python",
   "name": "python",
   "nbconvert_exporter": "python",
   "pygments_lexer": "ipython3",
   "version": "3.10.7"
  },
  "vscode": {
   "interpreter": {
    "hash": "972b3bf27e332e87b5379f2791f6ef9dfc79c71018c370b0d7423235e20fe4d7"
   }
  }
 },
 "nbformat": 4,
 "nbformat_minor": 4
}
